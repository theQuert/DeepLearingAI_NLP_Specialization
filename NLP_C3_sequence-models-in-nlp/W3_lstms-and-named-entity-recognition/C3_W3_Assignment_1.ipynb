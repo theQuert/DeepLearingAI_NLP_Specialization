{
  "nbformat": 4,
  "nbformat_minor": 0,
  "metadata": {
    "accelerator": "GPU",
    "colab": {
      "name": "C3_W3_Assignment_Solution.ipynb",
      "provenance": [],
      "collapsed_sections": []
    },
    "coursera": {
      "schema_names": [
        "NLPC3-3A"
      ]
    },
    "kernelspec": {
      "display_name": "Python 3",
      "language": "python",
      "name": "python3"
    },
    "language_info": {
      "codemirror_mode": {
        "name": "ipython",
        "version": 3
      },
      "file_extension": ".py",
      "mimetype": "text/x-python",
      "name": "python",
      "nbconvert_exporter": "python",
      "pygments_lexer": "ipython3",
      "version": "3.7.1"
    }
  },
  "cells": [
    {
      "cell_type": "markdown",
      "metadata": {
        "id": "C7oVbe_pLr3C"
      },
      "source": [
        "# Assignment 3 - Named Entity Recognition (NER)\n",
        "\n",
        "Welcome to the third programming assignment of Course 3. In this assignment, you will learn to build more complicated models with Trax. By completing this assignment, you will be able to: \n",
        "\n",
        "- Design the architecture of a neural network, train it, and test it. \n",
        "- Process features and represents them\n",
        "- Understand word padding\n",
        "- Implement LSTMs\n",
        "- Test with your own sentence\n",
        "\n",
        "## Outline\n",
        "- [Introduction](#0)\n",
        "- [Part 1:  Exploring the data](#1)\n",
        "    - [1.1  Importing the Data](#1.1)\n",
        "    - [1.2  Data generator](#1.2)\n",
        "\t\t- [Exercise 01](#ex01)\n",
        "- [Part 2:  Building the model](#2)\n",
        "\t- [Exercise 02](#ex02)\n",
        "- [Part 3:  Train the Model ](#3)\n",
        "\t- [Exercise 03](#ex03)\n",
        "- [Part 4:  Compute Accuracy](#4)\n",
        "\t- [Exercise 04](#ex04)\n",
        "- [Part 5:  Testing with your own sentence](#5)\n"
      ]
    },
    {
      "cell_type": "markdown",
      "metadata": {
        "id": "ftT-5-yynCtl"
      },
      "source": [
        "<a name=\"0\"></a>\n",
        "# Introduction\n",
        "\n",
        "We first start by defining named entity recognition (NER). NER is a subtask of information extraction that locates and classifies named entities in a text. The named entities could be organizations, persons, locations, times, etc. \n",
        "\n",
        "For example:\n",
        "\n",
        "<img src = 'ner.png' width=\"width\" height=\"height\" style=\"width:600px;height:150px;\"/>\n",
        "\n",
        "Is labeled as follows: \n",
        "\n",
        "- French: geopolitical entity\n",
        "- Morocco: geographic entity \n",
        "- Christmas: time indicator\n",
        "\n",
        "Everything else that is labeled with an `O` is not considered to be a named entity. In this assignment, you will train a named entity recognition system that could be trained in a few seconds (on a GPU) and will get around 75% accuracy. Then, you will load in the exact version of your model, which was trained for a longer period of time. You could then evaluate the trained version of your model to get 96% accuracy! Finally, you will be able to test your named entity recognition system with your own sentence."
      ]
    },
    {
      "cell_type": "code",
      "metadata": {
        "colab": {
          "base_uri": "https://localhost:8080/"
        },
        "id": "O5B6JxYFvtux",
        "outputId": "1115eff7-82be-4ee7-df0e-9515ff27af7f"
      },
      "source": [
        "!git clone https://github.com/theQuert/DeepLearning.AI-NLP-Specialization.git"
      ],
      "execution_count": 3,
      "outputs": [
        {
          "output_type": "stream",
          "text": [
            "fatal: destination path 'DeepLearning.AI-NLP-Specialization' already exists and is not an empty directory.\n",
            "cp: cannot stat '/contents/DeepLearning.AI-NLP-Specialization/tree/main/NLP_C3_sequence-models-in-nlp/W3_lstms-and-named-entity-recognition/utils.py': No such file or directory\n"
          ],
          "name": "stdout"
        }
      ]
    },
    {
      "cell_type": "code",
      "metadata": {
        "id": "Y96rnW2RwFXZ"
      },
      "source": [
        "cp /content/DeepLearning.AI-NLP-Specialization/NLP_C3_sequence-models-in-nlp/W3_lstms-and-named-entity-recognition/utils.py ."
      ],
      "execution_count": 4,
      "outputs": []
    },
    {
      "cell_type": "code",
      "metadata": {
        "colab": {
          "base_uri": "https://localhost:8080/"
        },
        "id": "JEY_jlQQR9SP",
        "scrolled": true,
        "outputId": "f41b0dc0-ece2-436b-c415-fbebc57b63b6"
      },
      "source": [
        "# !pip install -q -U git+https://github.com/google/trax.git\n",
        "# !pip install -q -U git+https://github.com/google/gin-config.git\n",
        "\n",
        "import trax\n",
        "from trax import layers as tl\n",
        "import os \n",
        "import numpy as np\n",
        "import pandas as pd\n",
        "\n",
        "\n",
        "from utils import get_params, get_vocab\n",
        "import random as rnd\n",
        "\n",
        "# set random seeds to make this notebook easier to replicate\n",
        "trax.supervised.training.init_host_and_devices(random_seed=33)"
      ],
      "execution_count": 6,
      "outputs": [
        {
          "output_type": "stream",
          "text": [
            "/usr/local/lib/python3.7/dist-packages/jax/lib/xla_bridge.py:304: UserWarning: jax.host_id has been renamed to jax.process_index. This alias will eventually be removed; please update your code.\n",
            "  \"jax.host_id has been renamed to jax.process_index. This alias \"\n",
            "/usr/local/lib/python3.7/dist-packages/jax/lib/xla_bridge.py:317: UserWarning: jax.host_count has been renamed to jax.process_count. This alias will eventually be removed; please update your code.\n",
            "  \"jax.host_count has been renamed to jax.process_count. This alias \"\n"
          ],
          "name": "stderr"
        },
        {
          "output_type": "execute_result",
          "data": {
            "text/plain": [
              "(True, 1, 1, DeviceArray([ 0, 33], dtype=uint32))"
            ]
          },
          "metadata": {
            "tags": []
          },
          "execution_count": 6
        }
      ]
    },
    {
      "cell_type": "markdown",
      "metadata": {
        "id": "_PpjG5MuLr3F"
      },
      "source": [
        "<a name=\"1\"></a>\n",
        "# Part 1:  Exploring the data\n",
        "\n",
        "We will be using a dataset from Kaggle, which we will preprocess for you. The original data consists of four columns, the sentence number, the word, the part of speech of the word, and the tags.  A few tags you might expect to see are: \n",
        "\n",
        "* geo: geographical entity\n",
        "* org: organization\n",
        "* per: person \n",
        "* gpe: geopolitical entity\n",
        "* tim: time indicator\n",
        "* art: artifact\n",
        "* eve: event\n",
        "* nat: natural phenomenon\n",
        "* O: filler word\n"
      ]
    },
    {
      "cell_type": "code",
      "metadata": {
        "id": "AI7ZyHCmwptk"
      },
      "source": [
        "!cp -r /content/DeepLearning.AI-NLP-Specialization/NLP_C3_sequence-models-in-nlp/W3_lstms-and-named-entity-recognition/data .\n",
        "!cp -r /content/DeepLearning.AI-NLP-Specialization/NLP_C3_sequence-models-in-nlp/W3_lstms-and-named-entity-recognition/model ."
      ],
      "execution_count": 7,
      "outputs": []
    },
    {
      "cell_type": "code",
      "metadata": {
        "id": "-Jur1JnXnCtr",
        "scrolled": true
      },
      "source": [
        "# display original kaggle data\n",
        "data = pd.read_csv(\"ner_dataset.csv\", encoding = \"ISO-8859-1\") \n",
        "train_sents = open('data/small/train/sentences.txt', 'r').readline()\n",
        "train_labels = open('data/small/train/labels.txt', 'r').readline()\n",
        "print('SENTENCE:', train_sents)\n",
        "print('SENTENCE LABEL:', train_labels)\n",
        "print('ORIGINAL DATA:\\n', data.head(5))\n",
        "del(data, train_sents, train_labels)"
      ],
      "execution_count": null,
      "outputs": []
    },
    {
      "cell_type": "markdown",
      "metadata": {
        "id": "xoH6yBWVfzTb"
      },
      "source": [
        "<a name=\"1.1\"></a>\n",
        "## 1.1  Importing the Data\n",
        "\n",
        "In this part, we will import the preprocessed data and explore it."
      ]
    },
    {
      "cell_type": "code",
      "metadata": {
        "id": "UauHjIKHWC0N",
        "scrolled": true
      },
      "source": [
        "vocab, tag_map = get_vocab('data/large/words.txt', 'data/large/tags.txt')\n",
        "t_sentences, t_labels, t_size = get_params(vocab, tag_map, 'data/large/train/sentences.txt', 'data/large/train/labels.txt')\n",
        "v_sentences, v_labels, v_size = get_params(vocab, tag_map, 'data/large/val/sentences.txt', 'data/large/val/labels.txt')\n",
        "test_sentences, test_labels, test_size = get_params(vocab, tag_map, 'data/large/test/sentences.txt', 'data/large/test/labels.txt')"
      ],
      "execution_count": 9,
      "outputs": []
    },
    {
      "cell_type": "markdown",
      "metadata": {
        "id": "mcQi6EmWnCty"
      },
      "source": [
        "`vocab` is a dictionary that translates a word string to a unique number. Given a sentence, you can represent it as an array of numbers translating with this dictionary. The dictionary contains a `<PAD>` token. \n",
        "\n",
        "When training an LSTM using batches, all your input sentences must be the same size. To accomplish this, you set the length of your sentences to a certain number and add the generic `<PAD>` token to fill all the empty spaces. "
      ]
    },
    {
      "cell_type": "code",
      "metadata": {
        "colab": {
          "base_uri": "https://localhost:8080/"
        },
        "id": "sm2P8y7zNgdU",
        "scrolled": true,
        "outputId": "ebab7c25-9396-4c7f-efd1-febbaed7742c"
      },
      "source": [
        "# vocab translates from a word to a unique number\n",
        "print('vocab[\"the\"]:', vocab[\"the\"])\n",
        "# Pad token\n",
        "print('padded token:', vocab['<PAD>'])"
      ],
      "execution_count": 10,
      "outputs": [
        {
          "output_type": "stream",
          "text": [
            "vocab[\"the\"]: 9\n",
            "padded token: 35180\n"
          ],
          "name": "stdout"
        }
      ]
    },
    {
      "cell_type": "markdown",
      "metadata": {
        "id": "IY6BTBjunCt1"
      },
      "source": [
        "The tag_map corresponds to one of the possible tags a word can have. Run the cell below to see the possible classes you will be predicting. The prepositions in the tags mean:\n",
        "* I: Token is inside an entity.\n",
        "* B: Token begins an entity."
      ]
    },
    {
      "cell_type": "code",
      "metadata": {
        "colab": {
          "base_uri": "https://localhost:8080/"
        },
        "id": "ZzMamaPcQXWP",
        "scrolled": true,
        "outputId": "b703ffa3-6c99-4970-f283-ebbee436d20e"
      },
      "source": [
        "print(tag_map)"
      ],
      "execution_count": 11,
      "outputs": [
        {
          "output_type": "stream",
          "text": [
            "{'O': 0, 'B-geo': 1, 'B-gpe': 2, 'B-per': 3, 'I-geo': 4, 'B-org': 5, 'I-org': 6, 'B-tim': 7, 'B-art': 8, 'I-art': 9, 'I-per': 10, 'I-gpe': 11, 'I-tim': 12, 'B-nat': 13, 'B-eve': 14, 'I-eve': 15, 'I-nat': 16}\n"
          ],
          "name": "stdout"
        }
      ]
    },
    {
      "cell_type": "markdown",
      "metadata": {
        "id": "3F1sUP_MnCt5"
      },
      "source": [
        "So the coding scheme that tags the entities is a minimal one where B- indicates the first token in a multi-token entity, and I- indicates one in the middle of a multi-token entity. If you had the sentence \n",
        "\n",
        "**\"Sharon flew to Miami on Friday\"**\n",
        "\n",
        "the outputs would look like:\n",
        "\n",
        "```\n",
        "Sharon B-per\n",
        "flew   O\n",
        "to     O\n",
        "Miami  B-geo\n",
        "on     O\n",
        "Friday B-tim\n",
        "```\n",
        "\n",
        "your tags would reflect three tokens beginning with B-, since there are no multi-token entities in the sequence. But if you added Sharon's last name to the sentence: \n",
        "\n",
        "**\"Sharon Floyd flew to Miami on Friday\"**\n",
        "\n",
        "```\n",
        "Sharon B-per\n",
        "Floyd  I-per\n",
        "flew   O\n",
        "to     O\n",
        "Miami  B-geo\n",
        "on     O\n",
        "Friday B-tim\n",
        "```\n",
        "\n",
        "then your tags would change to show first \"Sharon\" as B-per, and \"Floyd\" as I-per, where I- indicates an inner token in a multi-token sequence."
      ]
    },
    {
      "cell_type": "code",
      "metadata": {
        "id": "xM9B_Rwxd01i",
        "scrolled": true
      },
      "source": [
        "# Exploring information about the data\n",
        "print('The number of outputs is tag_map', len(tag_map))\n",
        "# The number of vocabulary tokens (including <PAD>)\n",
        "g_vocab_size = len(vocab)\n",
        "print(f\"Num of vocabulary words: {g_vocab_size}\")\n",
        "print('The vocab size is', len(vocab))\n",
        "print('The training size is', t_size)\n",
        "print('The validation size is', v_size)\n",
        "print('An example of the first sentence is', t_sentences[0])\n",
        "print('An example of its corresponding label is', t_labels[0])"
      ],
      "execution_count": null,
      "outputs": []
    },
    {
      "cell_type": "markdown",
      "metadata": {
        "id": "IPd5a-4_nCt8"
      },
      "source": [
        "So you can see that we have already encoded each sentence into a tensor by converting it into a number. We also have 16 possible classes, as shown in the tag map.\n",
        "\n",
        "\n",
        "<a name=\"1.2\"></a>\n",
        "## 1.2  Data generator\n",
        "\n",
        "In python, a generator is a function that behaves like an iterator. It will return the next item. Here is a [link](https://wiki.python.org/moin/Generators) to review python generators. \n",
        "\n",
        "In many AI applications it is very useful to have a data generator. You will now implement a data generator for our NER application.\n",
        "\n",
        "<a name=\"ex01\"></a>\n",
        "### Exercise 01\n",
        "\n",
        "**Instructions:** Implement a data generator function that takes in `batch_size, x, y, pad, shuffle` where x is a large list of sentences, and y is a list of the tags associated with those sentences and pad is a pad value. Return a subset of those inputs in a tuple of two arrays `(X,Y)`. Each is an array of dimension (`batch_size, max_len`), where `max_len` is the length of the longest sentence *in that batch*. You will pad the X and Y examples with the pad argument. If `shuffle=True`, the data will be traversed in a random form.\n",
        "\n",
        "**Details:**\n",
        "\n",
        "This code as an outer loop  \n",
        "```\n",
        "while True:  \n",
        "...  \n",
        "yield((X,Y))  \n",
        "```\n",
        "\n",
        "Which runs continuously in the fashion of generators, pausing when yielding the next values. We will generate a batch_size output on each pass of this loop.    \n",
        "\n",
        "It has two inner loops. \n",
        "1. The first stores in temporal lists the data samples to be included in the next batch, and finds the maximum length of the sentences contained in it. By adjusting the length to include only the size of the longest sentence in each batch, overall computation is reduced. \n",
        "\n",
        "2. The second loop moves those inputs from the temporal list into NumPy arrays pre-filled with pad values.\n",
        "\n",
        "There are three slightly out of the ordinary features. \n",
        "1. The first is the use of the NumPy `full` function to fill the NumPy arrays with a pad value. See [full function documentation](https://numpy.org/doc/1.18/reference/generated/numpy.full.html).\n",
        "\n",
        "2. The second is tracking the current location in the incoming lists of sentences. Generators variables hold their values between invocations, so we create an `index` variable, initialize to zero, and increment by one for each sample included in a batch. However, we do not use the `index` to access the positions of the list of sentences directly. Instead, we use it to select one index from a list of indexes. In this way, we can change the order in which we traverse our original list, keeping untouched our original list.  \n",
        "\n",
        "3. The third also relates to wrapping. Because `batch_size` and the length of the input lists are not aligned, gathering a batch_size group of inputs may involve wrapping back to the beginning of the input loop. In our approach, it is just enough to reset the `index` to 0. We can re-shuffle the list of indexes to produce different batches each time."
      ]
    },
    {
      "cell_type": "code",
      "metadata": {
        "id": "tP7zQC8knCt_",
        "scrolled": true
      },
      "source": [
        "# UNQ_C1 (UNIQUE CELL IDENTIFIER, DO NOT EDIT)\n",
        "# GRADED FUNCTION: data_generator\n",
        "def data_generator(batch_size, x, y, pad, shuffle=False, verbose=False):\n",
        "    '''\n",
        "      Input: \n",
        "        batch_size - integer describing the batch size\n",
        "        x - list containing sentences where words are represented as integers\n",
        "        y - list containing tags associated with the sentences\n",
        "        shuffle - Shuffle the data order\n",
        "        pad - an integer representing a pad character\n",
        "        verbose - Print information during runtime\n",
        "      Output:\n",
        "        a tuple containing 2 elements:\n",
        "        X - np.ndarray of dim (batch_size, max_len) of padded sentences\n",
        "        Y - np.ndarray of dim (batch_size, max_len) of tags associated with the sentences in X\n",
        "    '''\n",
        "    \n",
        "    # count the number of lines in data_lines\n",
        "    num_lines = len(x)\n",
        "    \n",
        "    # create an array with the indexes of data_lines that can be shuffled\n",
        "    lines_index = [*range(num_lines)]\n",
        "    \n",
        "    # shuffle the indexes if shuffle is set to True\n",
        "    if shuffle:\n",
        "        rnd.shuffle(lines_index)\n",
        "    \n",
        "    index = 0 # tracks current location in x, y\n",
        "    while True:\n",
        "        buffer_x = [0] * batch_size # Temporal array to store the raw x data for this batch\n",
        "        buffer_y = [0] * batch_size # Temporal array to store the raw y data for this batch\n",
        "                \n",
        "  ### START CODE HERE (Replace instances of 'None' with your code) ###\n",
        "        \n",
        "        # Copy into the temporal buffers the sentences in x[index : index + batch_size] \n",
        "        # along with their corresponding labels y[index : index + batch_size]\n",
        "        # Find maximum length of sentences in x[index : index + batch_size] for this batch. \n",
        "        # Reset the index if we reach the end of the data set, and shuffle the indexes if needed.\n",
        "        max_len = 0\n",
        "        for i in range(batch_size):\n",
        "             # if the index is greater than or equal to the number of lines in x\n",
        "            if index >= num_lines:\n",
        "                # then reset the index to 0\n",
        "                index = 0\n",
        "                # re-shuffle the indexes if shuffle is set to True\n",
        "                if shuffle:\n",
        "                    rnd.shuffle(lines_index)\n",
        "            \n",
        "            # The current position is obtained using `lines_index[index]`\n",
        "            # Store the x value at the current position into the buffer_x\n",
        "            buffer_x[i] = x[lines_index[index]]\n",
        "            \n",
        "            # Store the y value at the current position into the buffer_y\n",
        "            buffer_y[i] = y[lines_index[index]]\n",
        "            \n",
        "            lenx = len(x[lines_index[index]])    #length of current x[]\n",
        "            if lenx > max_len:\n",
        "                max_len = lenx                   #max_len tracks longest x[]\n",
        "            \n",
        "            # increment index by one\n",
        "            index += 1\n",
        "\n",
        "\n",
        "        # create X,Y, NumPy arrays of size (batch_size, max_len) 'full' of pad value\n",
        "        X = np.full((batch_size, max_len), pad)\n",
        "        Y = np.full((batch_size, max_len), pad)\n",
        "\n",
        "        # copy values from lists to NumPy arrays. Use the buffered values\n",
        "        for i in range(batch_size):\n",
        "            # get the example (sentence as a tensor)\n",
        "            # in `buffer_x` at the `i` index\n",
        "            x_i = buffer_x[i]\n",
        "            \n",
        "            # similarly, get the example's labels\n",
        "            # in `buffer_y` at the `i` index\n",
        "            y_i = buffer_y[i]\n",
        "            \n",
        "            # Walk through each word in x_i\n",
        "            for j in range(len(x_i)):\n",
        "                # store the word in x_i at position j into X\n",
        "                X[i, j] = x_i[j]\n",
        "                \n",
        "                # store the label in y_i at position j into Y\n",
        "                Y[i, j] = y_i[j]\n",
        "\n",
        "    ### END CODE HERE ###\n",
        "        if verbose: print(\"index=\", index)\n",
        "        yield((X,Y))"
      ],
      "execution_count": 16,
      "outputs": []
    },
    {
      "cell_type": "code",
      "metadata": {
        "colab": {
          "base_uri": "https://localhost:8080/"
        },
        "id": "s3fwE3PMhOW4",
        "scrolled": true,
        "outputId": "2b176eba-d6c8-4c5c-b280-0ee82ac0ac77"
      },
      "source": [
        "batch_size = 5\n",
        "mini_sentences = t_sentences[0: 8]\n",
        "mini_labels = t_labels[0: 8]\n",
        "dg = data_generator(batch_size, mini_sentences, mini_labels, vocab[\"<PAD>\"], shuffle=False, verbose=True)\n",
        "X1, Y1 = next(dg)\n",
        "X2, Y2 = next(dg)\n",
        "print(Y1.shape, X1.shape, Y2.shape, X2.shape)\n",
        "print(X1[0][:], \"\\n\", Y1[0][:])"
      ],
      "execution_count": 17,
      "outputs": [
        {
          "output_type": "stream",
          "text": [
            "index= 5\n",
            "index= 2\n",
            "(5, 30) (5, 30) (5, 30) (5, 30)\n",
            "[    0     1     2     3     4     5     6     7     8     9    10    11\n",
            "    12    13    14     9    15     1    16    17    18    19    20    21\n",
            " 35180 35180 35180 35180 35180 35180] \n",
            " [    0     0     0     0     0     0     1     0     0     0     0     0\n",
            "     1     0     0     0     0     0     2     0     0     0     0     0\n",
            " 35180 35180 35180 35180 35180 35180]\n"
          ],
          "name": "stdout"
        }
      ]
    },
    {
      "cell_type": "markdown",
      "metadata": {
        "id": "W-qWOhFunCuH"
      },
      "source": [
        "**Expected output:**   \n",
        "```\n",
        "index= 5\n",
        "index= 2\n",
        "(5, 30) (5, 30) (5, 30) (5, 30)\n",
        "[    0     1     2     3     4     5     6     7     8     9    10    11\n",
        "    12    13    14     9    15     1    16    17    18    19    20    21\n",
        " 35180 35180 35180 35180 35180 35180] \n",
        " [    0     0     0     0     0     0     1     0     0     0     0     0\n",
        "     1     0     0     0     0     0     2     0     0     0     0     0\n",
        " 35180 35180 35180 35180 35180 35180]  \n",
        "```"
      ]
    },
    {
      "cell_type": "markdown",
      "metadata": {
        "id": "4SWxKhkVLr3P"
      },
      "source": [
        "<a name=\"2\"></a>\n",
        "# Part 2:  Building the model\n",
        "\n",
        "You will now implement the model. You will be using Google's TensorFlow. Your model will be able to distinguish the following:\n",
        "<table>\n",
        "    <tr>\n",
        "        <td>\n",
        "<img src = 'ner1.png' width=\"width\" height=\"height\" style=\"width:500px;height:150px;\"/>\n",
        "        </td>\n",
        "    </tr>\n",
        "</table>\n",
        "\n",
        "The model architecture will be as follows: \n",
        "\n",
        "<img src = 'ner2.png' width=\"width\" height=\"height\" style=\"width:600px;height:250px;\"/>\n",
        "\n",
        "Concretely: \n",
        "\n",
        "* Use the input tensors you built in your data generator\n",
        "* Feed it into an Embedding layer, to produce more semantic entries\n",
        "* Feed it into an LSTM layer\n",
        "* Run the output through a linear layer\n",
        "* Run the result through a log softmax layer to get the predicted class for each word.\n",
        "\n",
        "Good news! We won't make you implement the LSTM unit drawn above. However, we will ask you to build the model. \n",
        "\n",
        "<a name=\"ex02\"></a>\n",
        "### Exercise 02\n",
        "\n",
        "**Instructions:** Implement the initialization step and the forward function of your Named Entity Recognition system.  \n",
        "Please utilize help function e.g. `help(tl.Dense)` for more information on a layer\n",
        "   \n",
        "- [tl.Serial](https://github.com/google/trax/blob/1372b903bb66b0daccee19fd0b1fdf44f659330b/trax/layers/combinators.py#L26): Combinator that applies layers serially (by function composition).\n",
        "    - You can pass in the layers as arguments to `Serial`, separated by commas. \n",
        "    - For example: `tl.Serial(tl.Embeddings(...), tl.Mean(...), tl.Dense(...), tl.LogSoftmax(...))` \n",
        "\n",
        "\n",
        "-  [tl.Embedding](https://github.com/google/trax/blob/1372b903bb66b0daccee19fd0b1fdf44f659330b/trax/layers/core.py#L113): Initializes the embedding. In this case it is the dimension of the model by the size of the vocabulary. \n",
        "    - `tl.Embedding(vocab_size, d_feature)`.\n",
        "    - `vocab_size` is the number of unique words in the given vocabulary.\n",
        "    - `d_feature` is the number of elements in the word embedding (some choices for a word embedding size range from 150 to 300, for example).\n",
        "    \n",
        "\n",
        "-  [tl.LSTM](https://github.com/google/trax/blob/1372b903bb66b0daccee19fd0b1fdf44f659330b/trax/layers/rnn.py#L87):`Trax` LSTM layer of size d_model. \n",
        "    - `LSTM(n_units)` Builds an LSTM layer of n_cells.\n",
        "\n",
        "\n",
        "\n",
        "-  [tl.Dense](https://github.com/google/trax/blob/1372b903bb66b0daccee19fd0b1fdf44f659330b/trax/layers/core.py#L28):  A dense layer.\n",
        "    - `tl.Dense(n_units)`: The parameter `n_units` is the number of units chosen for this dense layer.  \n",
        "\n",
        "\n",
        "- [tl.LogSoftmax](https://github.com/google/trax/blob/1372b903bb66b0daccee19fd0b1fdf44f659330b/trax/layers/core.py#L242): Log of the output probabilities.\n",
        "    - Here, you don't need to set any parameters for `LogSoftMax()`.\n",
        " \n",
        "\n",
        "**Online documentation**\n",
        "\n",
        "- [tl.Serial](https://trax-ml.readthedocs.io/en/latest/trax.layers.html#module-trax.layers.combinators)\n",
        "\n",
        "- [tl.Embedding](https://trax-ml.readthedocs.io/en/latest/trax.layers.html#trax.layers.core.Embedding)\n",
        "\n",
        "-  [tl.LSTM](https://trax-ml.readthedocs.io/en/latest/trax.layers.html#trax.layers.rnn.LSTM)\n",
        "\n",
        "-  [tl.Dense](https://trax-ml.readthedocs.io/en/latest/trax.layers.html#trax.layers.core.Dense)\n",
        "\n",
        "- [tl.LogSoftmax](https://trax-ml.readthedocs.io/en/latest/trax.layers.html#trax.layers.core.LogSoftmax)    "
      ]
    },
    {
      "cell_type": "code",
      "metadata": {
        "id": "vL5u72u8Lr3Q",
        "scrolled": true
      },
      "source": [
        "# UNQ_C2 (UNIQUE CELL IDENTIFIER, DO NOT EDIT)\n",
        "# GRADED FUNCTION: NER\n",
        "def NER(vocab_size=35181, d_model=50, tags=tag_map):\n",
        "    '''\n",
        "      Input: \n",
        "        vocab_size - integer containing the size of the vocabulary\n",
        "        d_model - integer describing the embedding size\n",
        "      Output:\n",
        "        model - a trax serial model\n",
        "    '''\n",
        "    ### START CODE HERE (Replace instances of 'None' with your code) ###\n",
        "    model = tl.Serial(\n",
        "      tl.Embedding(vocab_size, d_feature=d_model), # Embedding layer\n",
        "      tl.LSTM(n_units=d_model), # LSTM layer\n",
        "      tl.Dense(n_units=len(tags)), # Dense layer with len(tags) units\n",
        "      tl.LogSoftmax()  # LogSoftmax layer\n",
        "      )\n",
        "      ### END CODE HERE ###\n",
        "    return model"
      ],
      "execution_count": 24,
      "outputs": []
    },
    {
      "cell_type": "code",
      "metadata": {
        "colab": {
          "base_uri": "https://localhost:8080/"
        },
        "id": "BrGdYpPvLr3U",
        "scrolled": true,
        "outputId": "376d1149-b8a9-4d85-d446-62caf69dbf89"
      },
      "source": [
        "# initializing your model\n",
        "model = NER()\n",
        "# display your model\n",
        "print(model)"
      ],
      "execution_count": 26,
      "outputs": [
        {
          "output_type": "stream",
          "text": [
            "Serial[\n",
            "  Embedding_35181_50\n",
            "  LSTM_50\n",
            "  Dense_17\n",
            "  LogSoftmax\n",
            "]\n"
          ],
          "name": "stdout"
        }
      ]
    },
    {
      "cell_type": "markdown",
      "metadata": {
        "id": "p636VCSanCuS"
      },
      "source": [
        "**Expected output:**  \n",
        "```\n",
        "Serial[\n",
        "  Embedding_35181_50\n",
        "  LSTM_50\n",
        "  Dense_17\n",
        "  LogSoftmax\n",
        "]\n",
        "```  \n"
      ]
    },
    {
      "cell_type": "markdown",
      "metadata": {
        "id": "4LkjXxxhLr3Z"
      },
      "source": [
        "<a name=\"3\"></a>\n",
        "# Part 3:  Train the Model \n",
        "\n",
        "This section will train your model.\n",
        "\n",
        "Before you start, you need to create the data generators for training and validation data. It is important that you mask padding in the loss weights of your data, which can be done using the `id_to_mask` argument of `trax.data.inputs.add_loss_weights`."
      ]
    },
    {
      "cell_type": "code",
      "metadata": {
        "id": "DyEMgcBu6Pyl"
      },
      "source": [
        "from trax.supervised import training\n",
        "rnd.seed(33)\n",
        "batch_size = 64\n",
        "\n",
        "# Create training data, mask pad id=35180 for training\n",
        "train_generator = trax.data.inputs.add_loss_weights(\n",
        "    data_generator(batch_size, t_sentences, t_labels, vocab['<PAD>'], True),\n",
        "    id_to_mask=vocab['<PAD>']\n",
        ")\n",
        "# Create validation data, mask pad id=35180 for training.\n",
        "eval_generator = trax.data.inputs.add_loss_weights(\n",
        "    data_generator(batch_size, v_sentences, v_labels, vocab['<PAD>'], True),\n",
        "    id_to_mask=vocab['<PAD>']\n",
        ")"
      ],
      "execution_count": 29,
      "outputs": []
    },
    {
      "cell_type": "markdown",
      "metadata": {
        "id": "-SdkBrFVnCuV"
      },
      "source": [
        "<a name='3.1'></a>\n",
        "### 3.1 Training the model\n",
        "\n",
        "You will now write a function that takes in your model and trains it.\n",
        "\n",
        "As you've seen in the previous assignments, you will first create the [TrainTask](https://trax-ml.readthedocs.io/en/stable/trax.supervised.html#trax.supervised.training.TrainTask) and [EvalTask](https://trax-ml.readthedocs.io/en/stable/trax.supervised.html#trax.supervised.training.EvalTask) using your data generator. Then you will use the `training.Loop` to train your model.\n",
        "\n",
        "<a name=\"ex03\"></a>\n",
        "### Exercise 03\n",
        "\n",
        "**Instructions:** Implement the `train_model` program below to train the neural network above. Here is a list of things you should do: \n",
        "- Create the trainer object by calling [`trax.supervised.training.Loop`](https://trax-ml.readthedocs.io/en/latest/trax.supervised.html#trax.supervised.training.Loop) and pass in the following:\n",
        "\n",
        "    - model = [NER](#ex02)\n",
        "    - [training task](https://trax-ml.readthedocs.io/en/latest/trax.supervised.html#trax.supervised.training.TrainTask) that uses the train data generator defined in the cell above\n",
        "        - loss_layer = [tl.CrossEntropyLoss()](https://github.com/google/trax/blob/22765bb18608d376d8cd660f9865760e4ff489cd/trax/layers/metrics.py#L71)\n",
        "        - optimizer = [trax.optimizers.Adam(0.01)](https://github.com/google/trax/blob/03cb32995e83fc1455b0c8d1c81a14e894d0b7e3/trax/optimizers/adam.py#L23)\n",
        "    - [evaluation task](https://trax-ml.readthedocs.io/en/latest/trax.supervised.html#trax.supervised.training.EvalTask) that uses the validation data generator defined in the cell above\n",
        "        - metrics for `EvalTask`: `tl.CrossEntropyLoss()` and `tl.Accuracy()`\n",
        "        - in `EvalTask` set `n_eval_batches=10` for better evaluation accuracy\n",
        "    - output_dir = output_dir\n",
        "\n",
        "You'll be using a [cross entropy loss](https://trax-ml.readthedocs.io/en/latest/trax.layers.html#trax.layers.metrics.CrossEntropyLoss), with an [Adam optimizer](https://trax-ml.readthedocs.io/en/latest/trax.optimizers.html#trax.optimizers.adam.Adam). Please read the [trax](https://trax-ml.readthedocs.io/en/latest/trax.html) documentation to get a full understanding. The [trax GitHub](https://github.com/google/trax) also contains some useful information and a link to a colab notebook."
      ]
    },
    {
      "cell_type": "code",
      "metadata": {
        "id": "WV27PerULr3a",
        "scrolled": true
      },
      "source": [
        "# UNQ_C3 (UNIQUE CELL IDENTIFIER, DO NOT EDIT)\n",
        "# GRADED FUNCTION: train_model\n",
        "def train_model(NER, train_generator, eval_generator, train_steps=1, output_dir='model'):\n",
        "    '''\n",
        "    Input: \n",
        "        NER - the model you are building\n",
        "        train_generator - The data generator for training examples\n",
        "        eval_generator - The data generator for validation examples,\n",
        "        train_steps - number of training steps\n",
        "        output_dir - folder to save your model\n",
        "    Output:\n",
        "        training_loop - a trax supervised training Loop\n",
        "    '''\n",
        "    # trax.supervised.training.Loop\n",
        "    ### START CODE HERE (Replace instances of 'None' with your code) ###\n",
        "    train_task = training.TrainTask(\n",
        "      train_generator, # A train data generator\n",
        "      loss_layer = tl.CrossEntropyLoss(), # A cross-entropy loss function\n",
        "      optimizer = trax.optimizers.adam.Adam(0.01),  # The adam optimizer\n",
        "    )\n",
        "\n",
        "    eval_task = training.EvalTask(\n",
        "      labeled_data = eval_generator, # A labeled data generator\n",
        "      metrics = [tl.metrics.CrossEntropyLoss(), tl.metrics.Accuracy()], # Evaluate with cross-entropy loss and accuracy\n",
        "      n_eval_batches = 10 # Number of batches to use on each evaluation\n",
        "    )\n",
        "\n",
        "    training_loop = training.Loop(\n",
        "        NER, # A model to train\n",
        "        train_task, # A train task\n",
        "        eval_tasks = [eval_task], # The evaluation task\n",
        "        output_dir = output_dir) # The output directory\n",
        "\n",
        "    # Train with train_steps\n",
        "    training_loop.run(n_steps = train_steps)\n",
        "    ### END CODE HERE ###\n",
        "    return training_loop"
      ],
      "execution_count": 38,
      "outputs": []
    },
    {
      "cell_type": "markdown",
      "metadata": {
        "id": "4tIc4nuonCue"
      },
      "source": [
        "On your local machine, you can run this training for 1000 train_steps and get your own model. This training takes about 5 to 10 minutes to run."
      ]
    },
    {
      "cell_type": "code",
      "metadata": {
        "colab": {
          "base_uri": "https://localhost:8080/"
        },
        "id": "VU-j8hs-nCue",
        "outputId": "00508a85-d889-432b-cdcf-c7c55ae329e8"
      },
      "source": [
        "train_steps = 100            # In coursera we can only train 100 steps\n",
        "!rm -f 'model/model.pkl.gz'  # Remove old model.pkl if it exists\n",
        "\n",
        "# Train the model\n",
        "training_loop = train_model(NER(), train_generator, eval_generator, train_steps)"
      ],
      "execution_count": 39,
      "outputs": [
        {
          "output_type": "stream",
          "text": [
            "/usr/local/lib/python3.7/dist-packages/jax/lib/xla_bridge.py:304: UserWarning: jax.host_id has been renamed to jax.process_index. This alias will eventually be removed; please update your code.\n",
            "  \"jax.host_id has been renamed to jax.process_index. This alias \"\n",
            "/usr/local/lib/python3.7/dist-packages/jax/lib/xla_bridge.py:317: UserWarning: jax.host_count has been renamed to jax.process_count. This alias will eventually be removed; please update your code.\n",
            "  \"jax.host_count has been renamed to jax.process_count. This alias \"\n"
          ],
          "name": "stderr"
        },
        {
          "output_type": "stream",
          "text": [
            "\n",
            "Step      1: Total number of trainable weights: 1780117\n",
            "Step      1: Ran 1 train steps in 3.66 secs\n",
            "Step      1: train CrossEntropyLoss |  2.93195939\n",
            "Step      1: eval  CrossEntropyLoss |  1.95300562\n",
            "Step      1: eval          Accuracy |  0.81474878\n",
            "\n",
            "Step    100: Ran 99 train steps in 74.91 secs\n",
            "Step    100: train CrossEntropyLoss |  0.52757818\n",
            "Step    100: eval  CrossEntropyLoss |  0.24906535\n",
            "Step    100: eval          Accuracy |  0.93375794\n"
          ],
          "name": "stdout"
        }
      ]
    },
    {
      "cell_type": "markdown",
      "metadata": {
        "id": "p1QvV66ZLr3i"
      },
      "source": [
        "**Expected output (Approximately)**\n",
        "\n",
        "```\n",
        "...\n",
        "Step      1: train CrossEntropyLoss |  2.94375849\n",
        "Step      1: eval  CrossEntropyLoss |  1.93172036\n",
        "Step      1: eval          Accuracy |  0.78727312\n",
        "Step    100: train CrossEntropyLoss |  0.57727730\n",
        "Step    100: eval  CrossEntropyLoss |  0.36356260\n",
        "Step    100: eval          Accuracy |  0.90943187\n",
        "...\n",
        "```\n",
        "This value may change between executions, but it must be around 90% of accuracy on train and validations sets, after 100 training steps."
      ]
    },
    {
      "cell_type": "markdown",
      "metadata": {
        "id": "lQTurbC0nCuh"
      },
      "source": [
        "We have trained the model longer, and we give you such a trained model. In that way, we ensure you can continue with the rest of the assignment even if you had some troubles up to here, and also we are sure that everybody will get the same outputs for the last example. However, you are free to try your model, as well. "
      ]
    },
    {
      "cell_type": "code",
      "metadata": {
        "colab": {
          "base_uri": "https://localhost:8080/"
        },
        "id": "ecIG67nenCui",
        "scrolled": true,
        "outputId": "44e4d202-127e-4b31-fa5f-b772fcf7ee32"
      },
      "source": [
        "# loading in a pretrained model..\n",
        "model = NER()\n",
        "model.init(trax.shapes.ShapeDtype((1, 1), dtype=np.int32))\n",
        "\n",
        "# Load the pretrained model\n",
        "model.init_from_file('/content/model/model.pkl.gz', weights_only=True)"
      ],
      "execution_count": 41,
      "outputs": [
        {
          "output_type": "execute_result",
          "data": {
            "text/plain": [
              "((array([[-0.12427741,  0.14942047,  0.06396526, ...,  0.34409794,\n",
              "           0.03598885, -0.07651605],\n",
              "         [ 0.12196686,  0.1410982 ,  0.02283877, ...,  0.00070138,\n",
              "          -0.0614307 ,  0.1733583 ],\n",
              "         [ 0.02804926,  0.01145881,  0.22981542, ...,  0.03080555,\n",
              "          -0.23966004, -0.26811907],\n",
              "         ...,\n",
              "         [ 0.05237898,  0.09947924, -0.2342806 , ..., -0.05267267,\n",
              "           0.041233  , -0.15233684],\n",
              "         [-0.03101348,  0.06152832, -0.08754642, ...,  0.14111514,\n",
              "           0.07802211, -0.17127535],\n",
              "         [-0.15060425,  0.02295654,  0.03025969, ..., -0.06761117,\n",
              "          -0.04018888, -0.04820336]], dtype=float32),\n",
              "  (((), ((), ())),\n",
              "   ((array([[-0.25957406, -0.05797022, -0.10566916, ...,  0.02141434,\n",
              "             -0.01071121,  0.27236503],\n",
              "            [ 0.04875233,  0.13567902,  0.06810763, ..., -0.21029003,\n",
              "             -0.16137618, -0.6080337 ],\n",
              "            [ 0.13258177, -0.00519527,  0.00617807, ..., -0.33686605,\n",
              "              0.0299772 , -0.7105841 ],\n",
              "            ...,\n",
              "            [ 0.05353137,  0.13095875, -0.2236046 , ..., -0.11022863,\n",
              "              0.05284882,  0.00802384],\n",
              "            [ 0.16342959, -0.08807389, -0.10206787, ..., -0.10474039,\n",
              "             -0.11094092, -0.14569306],\n",
              "            [ 0.03469178, -0.05476342,  0.02861373, ..., -0.12207835,\n",
              "              0.06063418, -0.21613696]], dtype=float32),\n",
              "     array([1.1068069 , 1.1054975 , 0.9725382 , 1.0007939 , 1.187932  ,\n",
              "            0.9147882 , 1.0666506 , 1.1026274 , 1.0981957 , 1.1130977 ,\n",
              "            1.0879332 , 1.3215963 , 1.073373  , 1.0640465 , 0.95591825,\n",
              "            1.1422027 , 1.0304537 , 0.9212403 , 1.1019615 , 1.1815885 ,\n",
              "            0.9652091 , 1.1267836 , 1.1863499 , 1.1982567 , 1.1389967 ,\n",
              "            1.2596467 , 1.1120032 , 1.1483061 , 0.94780296, 0.9586484 ,\n",
              "            0.9851994 , 1.1933918 , 1.060669  , 1.1088568 , 1.4551444 ,\n",
              "            0.9317458 , 1.111381  , 0.9595438 , 1.1265533 , 1.1106523 ,\n",
              "            0.9979629 , 1.03121   , 1.0835129 , 1.0009277 , 1.1100361 ,\n",
              "            0.9550488 , 1.1545585 , 1.0588005 , 0.912214  , 0.92825335,\n",
              "            1.0935216 , 1.0649531 , 1.0479107 , 0.7939041 , 0.77960664,\n",
              "            0.88968754, 0.7875851 , 1.0820616 , 1.0839715 , 1.1478877 ,\n",
              "            1.1686985 , 1.2234544 , 0.7527861 , 1.0448884 , 0.98371226,\n",
              "            1.0912184 , 0.6823629 , 0.9149164 , 1.0956166 , 1.1132946 ,\n",
              "            0.81713384, 1.0904813 , 1.2129648 , 1.2342246 , 1.0941191 ,\n",
              "            1.2029407 , 1.1237308 , 1.0803481 , 0.96357745, 0.94930303,\n",
              "            0.8045998 , 1.1586069 , 1.004716  , 0.97279125, 1.1536918 ,\n",
              "            0.88675475, 1.081248  , 0.96302634, 1.1413835 , 1.125343  ,\n",
              "            0.7905902 , 0.76688254, 1.0436033 , 0.9624566 , 1.1026765 ,\n",
              "            0.90219384, 1.120566  , 0.7892791 , 0.88269943, 0.9119402 ,\n",
              "            1.0470855 , 1.0443065 , 0.84909797, 0.88404715, 1.0200231 ,\n",
              "            0.9181344 , 1.0021235 , 1.0845413 , 1.0715508 , 1.0750163 ,\n",
              "            1.0398139 , 1.0547495 , 0.946334  , 1.0691901 , 0.9400376 ,\n",
              "            1.061446  , 0.9911217 , 0.96716094, 1.0774764 , 1.0525686 ,\n",
              "            0.91237175, 1.0685219 , 1.072137  , 1.0713729 , 1.0743409 ,\n",
              "            1.0792899 , 1.0685297 , 1.0745821 , 0.9317024 , 0.97420764,\n",
              "            0.87221366, 1.0551133 , 1.0117391 , 1.0740792 , 0.893773  ,\n",
              "            0.9373645 , 1.0821689 , 0.930154  , 1.0635456 , 1.078319  ,\n",
              "            0.95102495, 0.86315936, 1.0476685 , 0.94331753, 1.0744824 ,\n",
              "            0.9133221 , 1.0445085 , 0.8534462 , 0.92487884, 0.93683195,\n",
              "            0.96119225, 0.9783549 , 0.9241766 , 0.9691623 , 1.2311622 ,\n",
              "            0.9279783 , 0.99201113, 1.0444326 , 1.0086251 , 1.0347024 ,\n",
              "            0.8921484 , 1.0517269 , 1.0724014 , 0.9465573 , 0.9426427 ,\n",
              "            1.0651044 , 1.0495386 , 0.9640608 , 1.0040859 , 1.0280613 ,\n",
              "            0.9456582 , 1.0117615 , 1.0412374 , 1.0628346 , 1.0484518 ,\n",
              "            1.0180972 , 1.0278661 , 1.0369765 , 0.93054557, 0.9370631 ,\n",
              "            0.9281959 , 0.9796933 , 0.9565124 , 0.9277144 , 0.7862554 ,\n",
              "            0.93473   , 0.9457414 , 0.92808825, 0.9698403 , 1.029604  ,\n",
              "            0.97243243, 1.0045346 , 1.0136201 , 0.9779422 , 1.0775118 ,\n",
              "            0.95664626, 0.9908653 , 0.975427  , 0.92116076, 0.94201285],\n",
              "           dtype=float32)),),\n",
              "   ()),\n",
              "  (array([[ 1.05432130e-01, -4.79060918e-01, -3.82387161e-01,\n",
              "            1.80334389e-01, -3.41297448e-01, -1.67567506e-01,\n",
              "           -2.26682529e-01, -4.70253490e-02, -8.71687979e-02,\n",
              "           -3.92809480e-01, -3.54240686e-01, -3.11884999e-01,\n",
              "           -2.29339093e-01, -1.05878428e-01, -3.01008463e-01,\n",
              "            3.88451293e-02, -1.30122408e-01],\n",
              "          [ 1.58952221e-01, -5.03963292e-01, -2.12412421e-03,\n",
              "           -2.29180947e-01, -2.93323040e-01,  1.83796436e-02,\n",
              "            7.78579339e-02, -2.67332435e-01, -2.42230728e-01,\n",
              "           -2.66617656e-01, -3.59466523e-02,  5.60638197e-02,\n",
              "           -8.76337662e-02,  1.36623859e-01, -1.96732387e-01,\n",
              "           -1.79230526e-01,  5.35946563e-02],\n",
              "          [ 8.36386383e-02, -5.06473035e-02, -2.25550216e-02,\n",
              "            7.25581869e-02, -2.93141663e-01, -1.37649015e-01,\n",
              "           -3.43028814e-01, -3.97363007e-01,  1.24104626e-01,\n",
              "            1.14235997e-01, -3.03958714e-01, -2.73730397e-01,\n",
              "           -3.42317224e-01, -2.92292714e-01, -3.08189929e-01,\n",
              "            9.46884081e-02,  1.40143558e-02],\n",
              "          [-1.59298599e-01,  2.61171877e-01,  8.07396531e-01,\n",
              "           -3.70106280e-01,  2.95504659e-01, -3.39276910e-01,\n",
              "            3.33324999e-01, -7.07859099e-01, -4.05811578e-01,\n",
              "           -1.67768285e-01, -5.95629513e-02, -2.88682468e-02,\n",
              "           -4.60660517e-01, -2.07625166e-01, -1.90152973e-01,\n",
              "            5.39558679e-02, -5.43235335e-04],\n",
              "          [ 9.69895795e-02,  9.07373369e-01,  4.17212546e-01,\n",
              "           -3.90170425e-01, -2.25240886e-01,  1.12182394e-01,\n",
              "           -5.84425569e-01, -2.68349648e-01, -8.27158466e-02,\n",
              "            1.20238595e-01, -8.27754915e-01, -2.04054534e-01,\n",
              "           -5.36432207e-01,  1.77310094e-01, -5.55960536e-02,\n",
              "           -2.93142498e-01,  2.12897640e-02],\n",
              "          [-1.08561210e-01, -4.63959694e-01, -2.50273108e-01,\n",
              "           -1.27011821e-01, -1.18049718e-01,  2.87251100e-02,\n",
              "           -1.15523539e-01, -1.14756934e-01, -3.84302437e-01,\n",
              "           -1.05330169e-01,  1.32679746e-01, -8.24439377e-02,\n",
              "           -5.00062704e-01, -4.58170380e-03,  1.12816043e-01,\n",
              "           -6.40264526e-02,  2.02521577e-01],\n",
              "          [ 1.92291252e-02,  2.48840563e-02,  7.47672915e-02,\n",
              "            2.02122346e-01, -3.45311344e-01, -3.02756965e-01,\n",
              "           -4.27317247e-02, -2.85318255e-01, -3.69015485e-02,\n",
              "           -1.17238667e-02,  3.38968873e-01,  7.03674704e-02,\n",
              "            1.79253995e-01, -3.02401572e-01, -9.05844048e-02,\n",
              "            4.13328186e-02, -1.41998427e-02],\n",
              "          [ 3.05036902e-01, -6.25549704e-02, -1.21462397e-01,\n",
              "            3.36759508e-01,  2.11917207e-01,  2.44249940e-01,\n",
              "            2.28810400e-01,  3.97926897e-01, -7.17228204e-02,\n",
              "           -4.22296107e-01, -8.04972351e-02, -2.90679425e-01,\n",
              "           -2.25515038e-01, -3.96759123e-01, -3.01160365e-02,\n",
              "           -2.12375239e-01, -2.18911722e-01],\n",
              "          [ 3.98679972e-01,  1.55080119e-02, -2.13100240e-01,\n",
              "           -3.20141882e-01, -3.37132007e-01, -2.31771424e-01,\n",
              "           -3.50006670e-02,  1.54570937e-01, -1.71163440e-01,\n",
              "            2.28350442e-02,  2.25747868e-01, -3.52352977e-01,\n",
              "            2.76102245e-01,  4.57092337e-02, -1.17552206e-01,\n",
              "           -3.38858932e-01, -1.29312634e-01],\n",
              "          [ 3.57476413e-01, -1.64469436e-01, -2.30918080e-01,\n",
              "           -2.10526232e-02, -1.08864486e-01, -3.59032932e-03,\n",
              "            3.05708885e-01,  8.25200081e-02, -4.04842436e-01,\n",
              "           -1.65256232e-01,  2.02938899e-01,  1.45513460e-01,\n",
              "            1.61680549e-01, -2.71298081e-01, -1.25936553e-01,\n",
              "           -3.81700814e-01, -2.57204682e-01],\n",
              "          [ 4.34801802e-02,  1.08237863e-01,  6.95273578e-02,\n",
              "            1.67521015e-01,  1.20768547e-02, -1.83720961e-01,\n",
              "           -1.42308310e-01, -1.14081159e-01, -1.53408408e-01,\n",
              "           -4.20439124e-01,  7.33553767e-02, -1.96475863e-01,\n",
              "           -2.55774796e-01, -2.20406458e-01,  1.39944730e-02,\n",
              "            2.56809797e-02, -9.83766466e-02],\n",
              "          [ 1.68492183e-01,  1.07499495e-01, -3.87099057e-01,\n",
              "           -2.42313281e-01, -1.04921006e-01,  1.39860049e-01,\n",
              "           -2.46414736e-01, -6.01192601e-02, -2.67566722e-02,\n",
              "            3.05874702e-02,  2.56481349e-01, -3.04137785e-02,\n",
              "           -1.93367541e-01, -1.33170694e-01, -2.55840987e-01,\n",
              "           -2.42238522e-01, -4.52560753e-01],\n",
              "          [ 1.41762167e-01, -1.68472871e-01,  1.27474904e-01,\n",
              "            3.14865828e-01, -1.89973265e-01, -5.09597212e-02,\n",
              "           -1.89759821e-01, -3.81685734e-01,  6.13431633e-02,\n",
              "           -3.99596751e-01, -2.97005773e-01, -3.41430232e-02,\n",
              "           -2.76089430e-01,  6.91514462e-02,  1.52495965e-01,\n",
              "            2.90375315e-02, -2.07799636e-02],\n",
              "          [ 1.56005517e-01, -3.50327566e-02, -3.66378695e-01,\n",
              "           -3.25368524e-01, -2.53941655e-01, -3.80424887e-01,\n",
              "           -2.15002298e-02, -1.85705215e-01,  1.42993718e-01,\n",
              "           -3.12370628e-01, -1.15436457e-01,  3.08899116e-02,\n",
              "           -1.54888496e-01,  1.60382494e-01, -1.87768459e-01,\n",
              "           -1.40387446e-01, -1.10470958e-01],\n",
              "          [-2.52421200e-01,  6.51939260e-03,  3.34199011e-01,\n",
              "            3.63773495e-01,  3.57821286e-01,  3.04063350e-01,\n",
              "            6.28981516e-02,  2.50230134e-01, -3.15374106e-01,\n",
              "           -3.68852466e-01,  1.00116646e-02, -3.73443246e-01,\n",
              "            1.12877071e-01, -2.86112100e-01, -2.28491768e-01,\n",
              "            7.08505437e-02, -3.73677880e-01],\n",
              "          [ 3.17565262e-01,  2.59636700e-01, -3.30907851e-02,\n",
              "            2.94107348e-01,  1.31938353e-01,  2.44849980e-01,\n",
              "            1.41042203e-01, -1.79269202e-02,  5.14178649e-02,\n",
              "           -3.60816032e-01, -2.18787760e-01, -2.73542494e-01,\n",
              "            2.11598739e-01,  1.52037129e-01, -1.13942467e-01,\n",
              "           -2.23753422e-01, -9.32713747e-02],\n",
              "          [ 1.56279087e-01, -4.57881331e-01,  8.82752985e-03,\n",
              "           -1.92091957e-01, -1.87653288e-01, -2.34950259e-01,\n",
              "           -3.26229215e-01,  1.11774147e-01,  1.80637628e-01,\n",
              "           -1.61552161e-01, -4.05498326e-01, -6.50038198e-02,\n",
              "           -3.09256762e-01,  1.18929461e-01, -2.30067655e-01,\n",
              "           -1.37189016e-01,  2.13063210e-01],\n",
              "          [-6.38196841e-02, -3.57887477e-01,  2.53239244e-01,\n",
              "            6.18191600e-01, -1.38615236e-01, -3.58499169e-01,\n",
              "           -1.98284805e-01,  1.60348415e-01, -2.50678547e-02,\n",
              "            1.33706942e-01,  3.24713528e-01, -6.23656064e-02,\n",
              "            2.87101686e-01,  1.68256581e-01, -1.26458615e-01,\n",
              "           -2.80693471e-01, -3.90237719e-01],\n",
              "          [ 2.24769160e-01, -1.98350072e-01,  2.48521253e-01,\n",
              "           -3.51591915e-01,  1.07018568e-01, -1.39867827e-01,\n",
              "           -1.48522943e-01,  3.73489857e-01, -3.09605926e-01,\n",
              "            3.09776627e-02,  2.43256055e-03, -1.38243750e-01,\n",
              "            3.75110656e-02, -4.32775944e-01, -4.30965722e-01,\n",
              "            5.13634011e-02,  4.84496728e-03],\n",
              "          [ 2.40732670e-01,  1.40657842e-01,  2.40688547e-01,\n",
              "           -4.54815514e-02,  4.04382795e-02,  1.40644163e-01,\n",
              "           -2.28862420e-01,  3.63457918e-01, -4.41071764e-02,\n",
              "           -1.95946306e-01, -5.00414707e-02,  1.02725230e-01,\n",
              "            1.27618507e-01, -1.71797752e-01, -1.47276655e-01,\n",
              "           -1.46806240e-01, -1.89203601e-02],\n",
              "          [ 7.90743306e-02, -3.01841289e-01, -5.87842286e-01,\n",
              "           -3.25156718e-01, -1.96019396e-01,  3.77073362e-02,\n",
              "           -1.97799593e-01, -1.05985254e-02, -2.26565972e-01,\n",
              "            5.92054576e-02,  1.81401715e-01,  9.70111042e-02,\n",
              "           -2.87300497e-01, -6.92720786e-02, -1.81365013e-01,\n",
              "            1.10666119e-01, -2.84829974e-01],\n",
              "          [ 4.39137816e-01, -3.93804535e-02, -3.08323383e-01,\n",
              "           -1.86439723e-01,  2.27288324e-02, -2.58114040e-01,\n",
              "           -2.28704691e-01, -1.73372015e-01, -2.48387247e-01,\n",
              "           -3.14128064e-02,  1.62504166e-02, -2.26626366e-01,\n",
              "            1.89294536e-02,  1.12609491e-01, -1.55981213e-01,\n",
              "            2.93329284e-02, -3.64914477e-01],\n",
              "          [ 3.39384139e-01,  9.18249637e-02, -3.57166052e-01,\n",
              "           -2.63071321e-02,  2.72014327e-02, -2.63263602e-02,\n",
              "            4.55977581e-02, -2.05443859e-01,  3.56883369e-02,\n",
              "            2.19478309e-02,  2.02162728e-01, -4.03100640e-01,\n",
              "           -2.97747523e-01,  8.98879990e-02, -1.80429909e-02,\n",
              "           -3.96148652e-01,  2.51798537e-02],\n",
              "          [ 2.15020388e-01,  2.22325951e-01, -2.98651576e-01,\n",
              "           -1.21006453e-02, -3.94937664e-01,  2.10481793e-01,\n",
              "           -2.01477200e-01, -2.16439143e-01,  1.20990217e-01,\n",
              "           -3.82811397e-01,  8.34317878e-02, -4.09761488e-01,\n",
              "           -9.43431407e-02, -2.92614430e-01,  1.18324347e-01,\n",
              "            3.63807529e-02, -3.92571837e-01],\n",
              "          [ 5.30756451e-02,  1.19239427e-02,  5.16592041e-02,\n",
              "            3.93116266e-01, -2.49882132e-01,  3.10044765e-01,\n",
              "            2.07244724e-01, -4.56099689e-01, -4.25461709e-01,\n",
              "            1.22025952e-01,  1.02910526e-01, -1.67193145e-01,\n",
              "           -1.51992351e-01, -8.23502094e-02, -1.30405098e-01,\n",
              "           -2.60429651e-01,  5.07030124e-03],\n",
              "          [ 2.85084665e-01, -7.68299475e-02, -1.45788789e-01,\n",
              "            1.70159593e-01, -1.07765600e-01, -8.53842497e-02,\n",
              "           -2.04424709e-01, -1.98998004e-01, -4.17576313e-01,\n",
              "           -1.81205690e-01,  3.44405264e-01,  1.32503763e-01,\n",
              "            1.19381033e-01, -4.09816891e-01, -3.71442474e-02,\n",
              "            1.60077125e-01, -1.00936100e-01],\n",
              "          [ 4.11281049e-01, -6.85758367e-02, -1.47990450e-01,\n",
              "           -4.79758494e-02,  3.80957685e-02, -1.60951853e-01,\n",
              "            3.07195783e-01, -2.64900148e-01, -2.50463367e-01,\n",
              "           -2.86021382e-01, -2.34028533e-01,  5.01256287e-02,\n",
              "           -1.39637485e-01, -2.83008188e-01,  6.72322698e-03,\n",
              "           -1.93690374e-01, -3.93599093e-01],\n",
              "          [ 1.95585117e-01,  2.31448524e-02, -5.10639548e-02,\n",
              "            8.10981095e-02, -2.13461686e-02, -1.49791881e-01,\n",
              "            3.28193218e-01, -3.85921031e-01, -1.04088701e-01,\n",
              "            2.46700514e-02, -8.92986134e-02, -3.08149636e-01,\n",
              "           -2.38255054e-01, -4.08293754e-01,  5.31332493e-02,\n",
              "            2.58621704e-02, -2.79706627e-01],\n",
              "          [-2.23706201e-01, -3.32923204e-01,  5.69237918e-02,\n",
              "            5.65415621e-01, -1.03849228e-02, -6.54234812e-02,\n",
              "           -5.21171428e-02, -3.71445576e-03, -1.72086820e-01,\n",
              "           -4.48099881e-01,  9.66715161e-03, -3.99807662e-01,\n",
              "           -9.87267867e-02, -4.07733828e-01, -2.30536804e-01,\n",
              "            5.72200026e-03, -2.61064917e-01],\n",
              "          [-1.44307569e-01,  3.72322083e-01, -7.99847394e-02,\n",
              "            1.67886466e-01, -4.19539623e-02,  7.01591149e-02,\n",
              "           -1.81831867e-02,  1.28682628e-01, -3.91165286e-01,\n",
              "           -3.42255533e-01,  2.91436970e-01, -1.05411172e-01,\n",
              "           -1.78014815e-01, -4.69020642e-02, -4.24295813e-01,\n",
              "            1.14015982e-01, -5.33391424e-02],\n",
              "          [-9.47775468e-02,  3.62886071e-01,  4.44642991e-01,\n",
              "           -4.90010567e-02,  1.24839917e-01, -9.31209046e-03,\n",
              "           -7.19004214e-01,  4.80186902e-02, -5.86776063e-02,\n",
              "            5.71412742e-02, -4.37432081e-01,  1.57161895e-02,\n",
              "            1.81922346e-01,  8.47962052e-02,  1.66854665e-01,\n",
              "            1.27555281e-01, -3.51586640e-01],\n",
              "          [ 3.40839744e-01, -2.43580937e-01,  1.95876956e-01,\n",
              "           -3.02334785e-01, -1.93939880e-01,  1.49093121e-02,\n",
              "           -5.02976701e-02, -3.06430966e-01,  1.21009283e-01,\n",
              "            1.01209983e-01, -8.04003254e-02, -4.19702940e-02,\n",
              "            7.48931170e-02, -2.69039363e-01,  5.43150865e-02,\n",
              "           -7.09248558e-02, -2.59769976e-01],\n",
              "          [ 1.36964366e-01, -1.48081914e-01,  2.88083524e-01,\n",
              "           -1.19855888e-01,  1.51722040e-02, -3.27533968e-02,\n",
              "           -3.52072269e-02,  3.32843393e-01,  9.06059593e-02,\n",
              "           -4.09682155e-01,  4.97212380e-01, -1.33305907e-01,\n",
              "            4.25976723e-01, -4.47828621e-02, -5.34010865e-02,\n",
              "           -4.44047339e-03, -2.82691032e-01],\n",
              "          [ 2.17226475e-01, -8.04207996e-02, -1.24837175e-01,\n",
              "           -1.46389574e-01,  1.80653453e-01,  5.79797253e-02,\n",
              "           -2.98295021e-01,  4.69453894e-02, -7.91593194e-02,\n",
              "            5.26786670e-02, -1.09679632e-01, -1.71897486e-01,\n",
              "            2.38991663e-01,  8.80755782e-02, -2.10128501e-01,\n",
              "           -2.86555365e-02, -3.73309553e-01],\n",
              "          [ 4.43650270e-03,  3.91514421e-01,  5.70288956e-01,\n",
              "           -2.69614846e-01, -3.17962915e-01,  4.43086386e-01,\n",
              "           -3.41447949e-01,  2.64858484e-01, -3.61128658e-01,\n",
              "           -8.56387988e-02, -1.62292883e-01, -3.05122942e-01,\n",
              "           -1.85593337e-01,  4.95024137e-02, -2.03967437e-01,\n",
              "           -1.56786084e-01, -1.39665872e-01],\n",
              "          [-1.39166698e-01, -8.04465771e-01, -1.37548214e-02,\n",
              "           -4.75134514e-02, -3.60739082e-01,  5.48811331e-02,\n",
              "           -5.30155778e-01,  2.07712296e-02, -3.55195880e-01,\n",
              "           -3.02776873e-01,  2.86789965e-02, -4.82838601e-02,\n",
              "           -3.22906107e-01,  1.61664486e-01,  1.41656790e-02,\n",
              "           -7.83333853e-02, -1.47735119e-01],\n",
              "          [ 3.88389647e-01, -2.67956376e-01, -1.02872342e-01,\n",
              "            2.32088551e-01,  1.48366570e-01,  2.06506521e-01,\n",
              "           -1.00446112e-01,  1.03250414e-01, -4.14552242e-01,\n",
              "           -1.94809526e-01, -1.97180882e-01,  3.24231386e-02,\n",
              "           -2.61392724e-02,  1.08243987e-01, -1.53637484e-01,\n",
              "           -1.37638390e-01, -3.12645584e-01],\n",
              "          [-1.18271217e-01,  1.08510315e-01,  5.71331322e-01,\n",
              "            3.83456796e-01,  1.07135892e-01,  1.87173784e-01,\n",
              "           -1.38698354e-01,  3.20102304e-01, -1.62396312e-01,\n",
              "           -4.42002684e-01,  2.33274415e-01, -3.69347662e-01,\n",
              "           -1.39488280e-02, -8.28675330e-02,  1.41053110e-01,\n",
              "            3.68983485e-03, -6.90531880e-02],\n",
              "          [ 3.86855721e-01, -1.75468296e-01,  2.00208068e-01,\n",
              "           -2.49229267e-01, -1.29969701e-01,  6.76794052e-02,\n",
              "           -1.92441300e-01, -1.26627073e-01,  1.15253255e-01,\n",
              "           -2.84996927e-01, -2.60282934e-01,  9.54053551e-02,\n",
              "           -2.65616417e-01, -3.34604263e-01,  1.43768802e-01,\n",
              "           -5.16771749e-02, -2.28124008e-01],\n",
              "          [ 1.05067402e-01,  1.14805885e-01, -3.40564191e-01,\n",
              "           -1.55622840e-01, -2.48859152e-01, -2.16909230e-01,\n",
              "           -2.41981581e-01,  2.12434703e-03, -3.30372870e-01,\n",
              "           -2.35777274e-01, -7.74341747e-02, -2.92225212e-01,\n",
              "           -2.17161715e-01, -2.01995507e-01, -4.27695572e-01,\n",
              "           -3.66299242e-01, -4.37102646e-01],\n",
              "          [-5.43276360e-03, -7.46681869e-01, -5.28982162e-01,\n",
              "            1.72943354e-01, -2.65023202e-01,  3.70955430e-02,\n",
              "           -5.48758626e-01,  2.97972709e-01,  2.12856233e-02,\n",
              "           -3.71227145e-01, -2.44743183e-01, -2.57126242e-01,\n",
              "           -1.02822959e-01, -3.17456454e-01,  1.26538873e-01,\n",
              "           -6.81306422e-02, -3.20464671e-01],\n",
              "          [-5.57584614e-02,  9.61513579e-01, -8.11401382e-02,\n",
              "            3.07318687e-01, -5.79865761e-02, -6.27524825e-03,\n",
              "           -4.59833413e-01, -4.33296055e-01,  1.66406095e-01,\n",
              "            1.50586724e-01, -6.42048419e-01,  3.97440381e-02,\n",
              "           -7.61360407e-01, -3.87122691e-01, -1.84986472e-01,\n",
              "            1.76298395e-01, -7.71961287e-02],\n",
              "          [ 3.27219456e-01, -1.72998801e-01,  5.94451986e-02,\n",
              "           -2.35357687e-01, -3.18195462e-01, -1.59929484e-01,\n",
              "            2.94691622e-01,  1.47105664e-01,  2.26330739e-02,\n",
              "           -1.89630315e-01, -2.90130496e-01,  9.77268964e-02,\n",
              "           -2.06773117e-01, -3.49127918e-01, -1.17578216e-01,\n",
              "            6.57250313e-03, -1.88212752e-01],\n",
              "          [-1.70752957e-01,  2.29967043e-01,  4.02553946e-01,\n",
              "            5.20364583e-01,  2.98871636e-01,  3.11003596e-01,\n",
              "            2.42868721e-01, -4.54156011e-01, -4.23339993e-01,\n",
              "           -3.67308885e-01,  3.89569998e-01, -1.50238857e-01,\n",
              "           -2.13718086e-01, -2.62190908e-01, -2.17648640e-01,\n",
              "           -1.01736188e-01, -8.33545700e-02],\n",
              "          [ 3.18516463e-01,  2.55487770e-01, -2.27526650e-01,\n",
              "            7.62434453e-02, -1.46198511e-01,  1.76299229e-01,\n",
              "           -3.32948081e-02, -3.90705943e-01, -3.91106069e-01,\n",
              "           -1.71828330e-01,  7.06167892e-02, -5.88111728e-02,\n",
              "            1.06830962e-01, -3.69081676e-01, -2.28045642e-01,\n",
              "           -3.25853467e-01, -8.35315585e-02],\n",
              "          [-1.17258795e-01,  1.12843327e-01, -7.73956478e-01,\n",
              "            2.44017551e-03,  2.96039015e-01, -3.22519690e-01,\n",
              "            6.43217206e-01, -5.04482925e-01, -4.16728966e-02,\n",
              "            5.79661466e-02,  1.46632463e-01,  4.38045859e-02,\n",
              "           -4.09775525e-01, -2.96176434e-01,  1.45138623e-02,\n",
              "            9.98910964e-02, -3.98749113e-02],\n",
              "          [ 2.28336290e-01, -2.65426189e-01, -1.80370331e-01,\n",
              "            1.87877953e-01,  1.30874321e-01,  2.21411198e-01,\n",
              "           -2.06939608e-01, -8.08990598e-02, -9.35888290e-02,\n",
              "           -2.78166562e-01, -2.51980513e-01, -5.49767129e-02,\n",
              "            1.28993362e-01, -2.33886540e-02, -4.31237936e-01,\n",
              "           -2.68236786e-01, -1.55219026e-02],\n",
              "          [ 4.35794368e-02,  1.19000465e-01,  2.31069520e-01,\n",
              "            7.04252064e-01, -5.91170676e-02,  1.72456935e-01,\n",
              "           -7.75006413e-01, -8.20383579e-02,  7.02570751e-02,\n",
              "           -2.13049188e-01, -4.24430728e-01,  1.62111074e-01,\n",
              "           -1.04070760e-01, -5.65035306e-02, -4.48638899e-03,\n",
              "            6.29536733e-02, -3.78476441e-01],\n",
              "          [-1.66069269e-01,  1.00782365e-02, -1.33878753e-01,\n",
              "           -1.57836571e-01, -4.33840185e-01,  3.77896316e-02,\n",
              "           -4.16457117e-01,  1.15490943e-01, -9.05982330e-02,\n",
              "           -4.24092650e-01,  2.01779410e-01,  4.90078665e-02,\n",
              "           -4.07059997e-01,  8.70169792e-03, -8.87996778e-02,\n",
              "           -7.11986274e-02,  1.37876362e-01],\n",
              "          [-1.74558491e-01, -8.27190652e-02, -3.49418551e-01,\n",
              "           -1.67728234e-02, -5.27806759e-01,  1.60045311e-01,\n",
              "           -2.65330404e-01, -6.43646896e-01, -1.05149254e-01,\n",
              "           -1.29424140e-01,  2.99066097e-01,  7.66123682e-02,\n",
              "           -4.77976650e-01,  1.87616199e-01, -2.32631974e-02,\n",
              "           -1.94021687e-01, -2.04378217e-01]], dtype=float32),\n",
              "   array([ 0.09453081,  0.04535137,  0.14905751,  0.09136932, -0.04380291,\n",
              "           0.07200425, -0.10136504, -0.01996297, -0.15909779, -0.17709845,\n",
              "          -0.09984057, -0.1484114 , -0.1306186 , -0.16330262, -0.15622003,\n",
              "          -0.14422037, -0.2245893 ], dtype=float32)),\n",
              "  ()),\n",
              " ((), (((), ((), ())), ((), ()), ()), (), ()))"
            ]
          },
          "metadata": {
            "tags": []
          },
          "execution_count": 41
        }
      ]
    },
    {
      "cell_type": "markdown",
      "metadata": {
        "id": "c4r-gXOZLr3j"
      },
      "source": [
        "<a name=\"4\"></a>\n",
        "# Part 4:  Compute Accuracy\n",
        "\n",
        "You will now evaluate in the test set. Previously, you have seen the accuracy on the training set and the validation (noted as eval) set. You will now evaluate on your test set. To get a good evaluation, you will need to create a mask to avoid counting the padding tokens when computing the accuracy. \n",
        "\n",
        "<a name=\"ex04\"></a>\n",
        "### Exercise 04\n",
        "\n",
        "**Instructions:** Write a program that takes in your model and uses it to evaluate on the test set. You should be able to get an accuracy of 95%.  \n"
      ]
    },
    {
      "cell_type": "markdown",
      "metadata": {
        "id": "AmIvd_GXnCuk"
      },
      "source": [
        "\n",
        "<details>    \n",
        "<summary>\n",
        "    <font size=\"3\" color=\"darkgreen\"><b>More Detailed Instructions </b></font>\n",
        "</summary>\n",
        "\n",
        "* *Step 1*: model(sentences) will give you the predicted output. \n",
        "\n",
        "* *Step 2*: Prediction will produce an output with an added dimension. For each sentence, for each word, there will be a vector of probabilities for each tag type. For each sentence,word, you need to pick the maximum valued tag. This will require `np.argmax` and careful use of the `axis` argument.\n",
        "* *Step 3*: Create a mask to prevent counting pad characters. It has the same dimension as output. An example below on matrix comparison provides a hint.\n",
        "* *Step 4*: Compute the accuracy metric by comparing your outputs against your test labels. Take the sum of that and divide by the total number of **unpadded** tokens. Use your mask value to mask the padded tokens. Return the accuracy. \n",
        "</detail>"
      ]
    },
    {
      "cell_type": "code",
      "metadata": {
        "colab": {
          "base_uri": "https://localhost:8080/"
        },
        "id": "qaSy_NywnCul",
        "scrolled": true,
        "outputId": "18a06854-f04f-4ec5-cd02-6913c8ffb696"
      },
      "source": [
        "#Example of a comparision on a matrix \n",
        "a = np.array([1, 2, 3, 4])\n",
        "a == 2"
      ],
      "execution_count": 42,
      "outputs": [
        {
          "output_type": "execute_result",
          "data": {
            "text/plain": [
              "array([False,  True, False, False])"
            ]
          },
          "metadata": {
            "tags": []
          },
          "execution_count": 42
        }
      ]
    },
    {
      "cell_type": "code",
      "metadata": {
        "colab": {
          "base_uri": "https://localhost:8080/"
        },
        "id": "3H0Kx1rnnCun",
        "scrolled": true,
        "outputId": "4124e0fa-2156-4d72-c210-b8c62469b4f8"
      },
      "source": [
        "# create the evaluation inputs\n",
        "x, y = next(data_generator(len(test_sentences), test_sentences, test_labels, vocab['<PAD>']))\n",
        "print(\"input shapes\", x.shape, y.shape)"
      ],
      "execution_count": 43,
      "outputs": [
        {
          "output_type": "stream",
          "text": [
            "input shapes (7194, 70) (7194, 70)\n"
          ],
          "name": "stdout"
        }
      ]
    },
    {
      "cell_type": "code",
      "metadata": {
        "colab": {
          "base_uri": "https://localhost:8080/"
        },
        "id": "rh16zSTonCuq",
        "outputId": "7599e01a-8108-4264-ab0b-dc37036f94f7"
      },
      "source": [
        "# sample prediction\n",
        "tmp_pred = model(x)\n",
        "print(type(tmp_pred))\n",
        "print(f\"tmp_pred has shape: {tmp_pred.shape}\")"
      ],
      "execution_count": 44,
      "outputs": [
        {
          "output_type": "stream",
          "text": [
            "<class 'jaxlib.xla_extension.DeviceArray'>\n",
            "tmp_pred has shape: (7194, 70, 17)\n"
          ],
          "name": "stdout"
        }
      ]
    },
    {
      "cell_type": "markdown",
      "metadata": {
        "id": "78l5MTSBnCut"
      },
      "source": [
        "Note that the model's prediction has 3 axes: \n",
        "- the number of examples\n",
        "- the number of words in each example (padded to be as long as the longest sentence in the batch)\n",
        "- the number of possible targets (the 17 named entity tags)."
      ]
    },
    {
      "cell_type": "code",
      "metadata": {
        "id": "8ek59ro9nCut"
      },
      "source": [
        "# UNQ_C4 (UNIQUE CELL IDENTIFIER, DO NOT EDIT)\n",
        "# GRADED FUNCTION: evaluate_prediction\n",
        "def evaluate_prediction(pred, labels, pad):\n",
        "    \"\"\"\n",
        "    Inputs:\n",
        "        pred: prediction array with shape \n",
        "            (num examples, max sentence length in batch, num of classes)\n",
        "        labels: array of size (batch_size, seq_len)\n",
        "        pad: integer representing pad character\n",
        "    Outputs:\n",
        "        accuracy: float\n",
        "    \"\"\"\n",
        "    ### START CODE HERE (Replace instances of 'None' with your code) ###\n",
        "## step 1 ##\n",
        "    outputs = np.argmax(pred, axis=2)\n",
        "    print(\"outputs shape:\", outputs.shape)\n",
        "\n",
        "## step 2 ##\n",
        "    mask = labels != pred\n",
        "    print(\"mask shape:\", mask.shape, \"mask[0][20:30]:\", mask[0][20:30])\n",
        "## step 3 ##\n",
        "    accuracy = np.sum(outputs=='label') / float(np.sum(mask))\n",
        "    ### END CODE HERE ###\n",
        "    return accuracy\n"
      ],
      "execution_count": 45,
      "outputs": []
    },
    {
      "cell_type": "code",
      "metadata": {
        "colab": {
          "base_uri": "https://localhost:8080/",
          "height": 358
        },
        "id": "yCWFwt3m1sgL",
        "scrolled": true,
        "outputId": "6fbbcc75-8953-4bd2-a8ae-b27edfdb54ac"
      },
      "source": [
        "accuracy = evaluate_prediction(model(x), y, vocab['<PAD>'])\n",
        "print(\"accuracy: \", accuracy)"
      ],
      "execution_count": 47,
      "outputs": [
        {
          "output_type": "stream",
          "text": [
            "outputs shape: (7194, 70)\n"
          ],
          "name": "stdout"
        },
        {
          "output_type": "error",
          "ename": "ValueError",
          "evalue": "ignored",
          "traceback": [
            "\u001b[0;31m---------------------------------------------------------------------------\u001b[0m",
            "\u001b[0;31mValueError\u001b[0m                                Traceback (most recent call last)",
            "\u001b[0;32m<ipython-input-47-ecb738713bf9>\u001b[0m in \u001b[0;36m<module>\u001b[0;34m()\u001b[0m\n\u001b[0;32m----> 1\u001b[0;31m \u001b[0maccuracy\u001b[0m \u001b[0;34m=\u001b[0m \u001b[0mevaluate_prediction\u001b[0m\u001b[0;34m(\u001b[0m\u001b[0mmodel\u001b[0m\u001b[0;34m(\u001b[0m\u001b[0mx\u001b[0m\u001b[0;34m)\u001b[0m\u001b[0;34m,\u001b[0m \u001b[0my\u001b[0m\u001b[0;34m,\u001b[0m \u001b[0mvocab\u001b[0m\u001b[0;34m[\u001b[0m\u001b[0;34m'<PAD>'\u001b[0m\u001b[0;34m]\u001b[0m\u001b[0;34m)\u001b[0m\u001b[0;34m\u001b[0m\u001b[0;34m\u001b[0m\u001b[0m\n\u001b[0m\u001b[1;32m      2\u001b[0m \u001b[0mprint\u001b[0m\u001b[0;34m(\u001b[0m\u001b[0;34m\"accuracy: \"\u001b[0m\u001b[0;34m,\u001b[0m \u001b[0maccuracy\u001b[0m\u001b[0;34m)\u001b[0m\u001b[0;34m\u001b[0m\u001b[0;34m\u001b[0m\u001b[0m\n",
            "\u001b[0;32m<ipython-input-45-9faa1d4028d3>\u001b[0m in \u001b[0;36mevaluate_prediction\u001b[0;34m(pred, labels, pad)\u001b[0m\n\u001b[1;32m     17\u001b[0m \u001b[0;34m\u001b[0m\u001b[0m\n\u001b[1;32m     18\u001b[0m \u001b[0;31m## step 2 ##\u001b[0m\u001b[0;34m\u001b[0m\u001b[0;34m\u001b[0m\u001b[0;34m\u001b[0m\u001b[0m\n\u001b[0;32m---> 19\u001b[0;31m     \u001b[0mmask\u001b[0m \u001b[0;34m=\u001b[0m \u001b[0mlabels\u001b[0m \u001b[0;34m!=\u001b[0m \u001b[0mpred\u001b[0m\u001b[0;34m\u001b[0m\u001b[0;34m\u001b[0m\u001b[0m\n\u001b[0m\u001b[1;32m     20\u001b[0m     \u001b[0mprint\u001b[0m\u001b[0;34m(\u001b[0m\u001b[0;34m\"mask shape:\"\u001b[0m\u001b[0;34m,\u001b[0m \u001b[0mmask\u001b[0m\u001b[0;34m.\u001b[0m\u001b[0mshape\u001b[0m\u001b[0;34m,\u001b[0m \u001b[0;34m\"mask[0][20:30]:\"\u001b[0m\u001b[0;34m,\u001b[0m \u001b[0mmask\u001b[0m\u001b[0;34m[\u001b[0m\u001b[0;36m0\u001b[0m\u001b[0;34m]\u001b[0m\u001b[0;34m[\u001b[0m\u001b[0;36m20\u001b[0m\u001b[0;34m:\u001b[0m\u001b[0;36m30\u001b[0m\u001b[0;34m]\u001b[0m\u001b[0;34m)\u001b[0m\u001b[0;34m\u001b[0m\u001b[0;34m\u001b[0m\u001b[0m\n\u001b[1;32m     21\u001b[0m \u001b[0;31m## step 3 ##\u001b[0m\u001b[0;34m\u001b[0m\u001b[0;34m\u001b[0m\u001b[0;34m\u001b[0m\u001b[0m\n",
            "\u001b[0;32m/usr/local/lib/python3.7/dist-packages/jax/_src/numpy/lax_numpy.py\u001b[0m in \u001b[0;36mdeferring_binary_op\u001b[0;34m(self, other)\u001b[0m\n\u001b[1;32m   5664\u001b[0m     \u001b[0;32mif\u001b[0m \u001b[0;32mnot\u001b[0m \u001b[0misinstance\u001b[0m\u001b[0;34m(\u001b[0m\u001b[0mother\u001b[0m\u001b[0;34m,\u001b[0m \u001b[0m_scalar_types\u001b[0m \u001b[0;34m+\u001b[0m \u001b[0m_arraylike_types\u001b[0m \u001b[0;34m+\u001b[0m \u001b[0;34m(\u001b[0m\u001b[0mcore\u001b[0m\u001b[0;34m.\u001b[0m\u001b[0mTracer\u001b[0m\u001b[0;34m,\u001b[0m\u001b[0;34m)\u001b[0m\u001b[0;34m)\u001b[0m\u001b[0;34m:\u001b[0m\u001b[0;34m\u001b[0m\u001b[0;34m\u001b[0m\u001b[0m\n\u001b[1;32m   5665\u001b[0m       \u001b[0;32mreturn\u001b[0m \u001b[0mNotImplemented\u001b[0m\u001b[0;34m\u001b[0m\u001b[0;34m\u001b[0m\u001b[0m\n\u001b[0;32m-> 5666\u001b[0;31m     \u001b[0;32mreturn\u001b[0m \u001b[0mbinary_op\u001b[0m\u001b[0;34m(\u001b[0m\u001b[0mself\u001b[0m\u001b[0;34m,\u001b[0m \u001b[0mother\u001b[0m\u001b[0;34m)\u001b[0m\u001b[0;34m\u001b[0m\u001b[0;34m\u001b[0m\u001b[0m\n\u001b[0m\u001b[1;32m   5667\u001b[0m   \u001b[0;32mreturn\u001b[0m \u001b[0mdeferring_binary_op\u001b[0m\u001b[0;34m\u001b[0m\u001b[0;34m\u001b[0m\u001b[0m\n\u001b[1;32m   5668\u001b[0m \u001b[0;34m\u001b[0m\u001b[0m\n",
            "\u001b[0;32m/usr/local/lib/python3.7/dist-packages/jax/_src/numpy/lax_numpy.py\u001b[0m in \u001b[0;36m<lambda>\u001b[0;34m(x1, x2)\u001b[0m\n\u001b[1;32m    415\u001b[0m     \u001b[0mfn\u001b[0m \u001b[0;34m=\u001b[0m \u001b[0;32mlambda\u001b[0m \u001b[0mx1\u001b[0m\u001b[0;34m,\u001b[0m \u001b[0mx2\u001b[0m\u001b[0;34m:\u001b[0m \u001b[0mlax_fn\u001b[0m\u001b[0;34m(\u001b[0m\u001b[0;34m*\u001b[0m\u001b[0m_promote_args_inexact\u001b[0m\u001b[0;34m(\u001b[0m\u001b[0mnumpy_fn\u001b[0m\u001b[0;34m.\u001b[0m\u001b[0m__name__\u001b[0m\u001b[0;34m,\u001b[0m \u001b[0mx1\u001b[0m\u001b[0;34m,\u001b[0m \u001b[0mx2\u001b[0m\u001b[0;34m)\u001b[0m\u001b[0;34m)\u001b[0m\u001b[0;34m\u001b[0m\u001b[0;34m\u001b[0m\u001b[0m\n\u001b[1;32m    416\u001b[0m   \u001b[0;32melse\u001b[0m\u001b[0;34m:\u001b[0m\u001b[0;34m\u001b[0m\u001b[0;34m\u001b[0m\u001b[0m\n\u001b[0;32m--> 417\u001b[0;31m     \u001b[0mfn\u001b[0m \u001b[0;34m=\u001b[0m \u001b[0;32mlambda\u001b[0m \u001b[0mx1\u001b[0m\u001b[0;34m,\u001b[0m \u001b[0mx2\u001b[0m\u001b[0;34m:\u001b[0m \u001b[0mlax_fn\u001b[0m\u001b[0;34m(\u001b[0m\u001b[0;34m*\u001b[0m\u001b[0m_promote_args\u001b[0m\u001b[0;34m(\u001b[0m\u001b[0mnumpy_fn\u001b[0m\u001b[0;34m.\u001b[0m\u001b[0m__name__\u001b[0m\u001b[0;34m,\u001b[0m \u001b[0mx1\u001b[0m\u001b[0;34m,\u001b[0m \u001b[0mx2\u001b[0m\u001b[0;34m)\u001b[0m\u001b[0;34m)\u001b[0m\u001b[0;34m\u001b[0m\u001b[0;34m\u001b[0m\u001b[0m\n\u001b[0m\u001b[1;32m    418\u001b[0m   \u001b[0;32mif\u001b[0m \u001b[0mlax_doc\u001b[0m\u001b[0;34m:\u001b[0m\u001b[0;34m\u001b[0m\u001b[0;34m\u001b[0m\u001b[0m\n\u001b[1;32m    419\u001b[0m     \u001b[0mdoc\u001b[0m \u001b[0;34m=\u001b[0m \u001b[0m_dedent\u001b[0m\u001b[0;34m(\u001b[0m\u001b[0;34m'\\n\\n'\u001b[0m\u001b[0;34m.\u001b[0m\u001b[0mjoin\u001b[0m\u001b[0;34m(\u001b[0m\u001b[0mlax_fn\u001b[0m\u001b[0;34m.\u001b[0m\u001b[0m__doc__\u001b[0m\u001b[0;34m.\u001b[0m\u001b[0msplit\u001b[0m\u001b[0;34m(\u001b[0m\u001b[0;34m'\\n\\n'\u001b[0m\u001b[0;34m)\u001b[0m\u001b[0;34m[\u001b[0m\u001b[0;36m1\u001b[0m\u001b[0;34m:\u001b[0m\u001b[0;34m]\u001b[0m\u001b[0;34m)\u001b[0m\u001b[0;34m)\u001b[0m\u001b[0;34m.\u001b[0m\u001b[0mstrip\u001b[0m\u001b[0;34m(\u001b[0m\u001b[0;34m)\u001b[0m\u001b[0;34m\u001b[0m\u001b[0;34m\u001b[0m\u001b[0m\n",
            "\u001b[0;32m/usr/local/lib/python3.7/dist-packages/jax/_src/numpy/lax_numpy.py\u001b[0m in \u001b[0;36m_promote_args\u001b[0;34m(fun_name, *args)\u001b[0m\n\u001b[1;32m    320\u001b[0m   \u001b[0m_check_arraylike\u001b[0m\u001b[0;34m(\u001b[0m\u001b[0mfun_name\u001b[0m\u001b[0;34m,\u001b[0m \u001b[0;34m*\u001b[0m\u001b[0margs\u001b[0m\u001b[0;34m)\u001b[0m\u001b[0;34m\u001b[0m\u001b[0;34m\u001b[0m\u001b[0m\n\u001b[1;32m    321\u001b[0m   \u001b[0m_check_no_float0s\u001b[0m\u001b[0;34m(\u001b[0m\u001b[0mfun_name\u001b[0m\u001b[0;34m,\u001b[0m \u001b[0;34m*\u001b[0m\u001b[0margs\u001b[0m\u001b[0;34m)\u001b[0m\u001b[0;34m\u001b[0m\u001b[0;34m\u001b[0m\u001b[0m\n\u001b[0;32m--> 322\u001b[0;31m   \u001b[0;32mreturn\u001b[0m \u001b[0m_promote_shapes\u001b[0m\u001b[0;34m(\u001b[0m\u001b[0mfun_name\u001b[0m\u001b[0;34m,\u001b[0m \u001b[0;34m*\u001b[0m\u001b[0m_promote_dtypes\u001b[0m\u001b[0;34m(\u001b[0m\u001b[0;34m*\u001b[0m\u001b[0margs\u001b[0m\u001b[0;34m)\u001b[0m\u001b[0;34m)\u001b[0m\u001b[0;34m\u001b[0m\u001b[0;34m\u001b[0m\u001b[0m\n\u001b[0m\u001b[1;32m    323\u001b[0m \u001b[0;34m\u001b[0m\u001b[0m\n\u001b[1;32m    324\u001b[0m \u001b[0;32mdef\u001b[0m \u001b[0m_promote_args_inexact\u001b[0m\u001b[0;34m(\u001b[0m\u001b[0mfun_name\u001b[0m\u001b[0;34m,\u001b[0m \u001b[0;34m*\u001b[0m\u001b[0margs\u001b[0m\u001b[0;34m)\u001b[0m\u001b[0;34m:\u001b[0m\u001b[0;34m\u001b[0m\u001b[0;34m\u001b[0m\u001b[0m\n",
            "\u001b[0;32m/usr/local/lib/python3.7/dist-packages/jax/_src/numpy/lax_numpy.py\u001b[0m in \u001b[0;36m_promote_shapes\u001b[0;34m(fun_name, *args)\u001b[0m\n\u001b[1;32m    240\u001b[0m       \u001b[0;32mif\u001b[0m \u001b[0mconfig\u001b[0m\u001b[0;34m.\u001b[0m\u001b[0mjax_numpy_rank_promotion\u001b[0m \u001b[0;34m!=\u001b[0m \u001b[0;34m\"allow\"\u001b[0m\u001b[0;34m:\u001b[0m\u001b[0;34m\u001b[0m\u001b[0;34m\u001b[0m\u001b[0m\n\u001b[1;32m    241\u001b[0m         \u001b[0m_rank_promotion_warning_or_error\u001b[0m\u001b[0;34m(\u001b[0m\u001b[0mfun_name\u001b[0m\u001b[0;34m,\u001b[0m \u001b[0mshapes\u001b[0m\u001b[0;34m)\u001b[0m\u001b[0;34m\u001b[0m\u001b[0;34m\u001b[0m\u001b[0m\n\u001b[0;32m--> 242\u001b[0;31m       \u001b[0mresult_rank\u001b[0m \u001b[0;34m=\u001b[0m \u001b[0mlen\u001b[0m\u001b[0;34m(\u001b[0m\u001b[0mlax\u001b[0m\u001b[0;34m.\u001b[0m\u001b[0mbroadcast_shapes\u001b[0m\u001b[0;34m(\u001b[0m\u001b[0;34m*\u001b[0m\u001b[0mshapes\u001b[0m\u001b[0;34m)\u001b[0m\u001b[0;34m)\u001b[0m\u001b[0;34m\u001b[0m\u001b[0;34m\u001b[0m\u001b[0m\n\u001b[0m\u001b[1;32m    243\u001b[0m       return [broadcast_to(arg, (1,) * (result_rank - len(shp)) + shp)\n\u001b[1;32m    244\u001b[0m               for arg, shp in zip(args, shapes)]\n",
            "\u001b[0;32m/usr/local/lib/python3.7/dist-packages/jax/_src/util.py\u001b[0m in \u001b[0;36mwrapper\u001b[0;34m(*args, **kwargs)\u001b[0m\n\u001b[1;32m    184\u001b[0m         \u001b[0;32mreturn\u001b[0m \u001b[0mf\u001b[0m\u001b[0;34m(\u001b[0m\u001b[0;34m*\u001b[0m\u001b[0margs\u001b[0m\u001b[0;34m,\u001b[0m \u001b[0;34m**\u001b[0m\u001b[0mkwargs\u001b[0m\u001b[0;34m)\u001b[0m\u001b[0;34m\u001b[0m\u001b[0;34m\u001b[0m\u001b[0m\n\u001b[1;32m    185\u001b[0m       \u001b[0;32melse\u001b[0m\u001b[0;34m:\u001b[0m\u001b[0;34m\u001b[0m\u001b[0;34m\u001b[0m\u001b[0m\n\u001b[0;32m--> 186\u001b[0;31m         \u001b[0;32mreturn\u001b[0m \u001b[0mcached\u001b[0m\u001b[0;34m(\u001b[0m\u001b[0mconfig\u001b[0m\u001b[0;34m.\u001b[0m\u001b[0m_trace_context\u001b[0m\u001b[0;34m(\u001b[0m\u001b[0;34m)\u001b[0m\u001b[0;34m,\u001b[0m \u001b[0;34m*\u001b[0m\u001b[0margs\u001b[0m\u001b[0;34m,\u001b[0m \u001b[0;34m**\u001b[0m\u001b[0mkwargs\u001b[0m\u001b[0;34m)\u001b[0m\u001b[0;34m\u001b[0m\u001b[0;34m\u001b[0m\u001b[0m\n\u001b[0m\u001b[1;32m    187\u001b[0m \u001b[0;34m\u001b[0m\u001b[0m\n\u001b[1;32m    188\u001b[0m     \u001b[0mwrapper\u001b[0m\u001b[0;34m.\u001b[0m\u001b[0mcache_clear\u001b[0m \u001b[0;34m=\u001b[0m \u001b[0mcached\u001b[0m\u001b[0;34m.\u001b[0m\u001b[0mcache_clear\u001b[0m\u001b[0;34m\u001b[0m\u001b[0;34m\u001b[0m\u001b[0m\n",
            "\u001b[0;32m/usr/local/lib/python3.7/dist-packages/jax/_src/util.py\u001b[0m in \u001b[0;36mcached\u001b[0;34m(_, *args, **kwargs)\u001b[0m\n\u001b[1;32m    177\u001b[0m     \u001b[0;34m@\u001b[0m\u001b[0mfunctools\u001b[0m\u001b[0;34m.\u001b[0m\u001b[0mlru_cache\u001b[0m\u001b[0;34m(\u001b[0m\u001b[0mmax_size\u001b[0m\u001b[0;34m)\u001b[0m\u001b[0;34m\u001b[0m\u001b[0;34m\u001b[0m\u001b[0m\n\u001b[1;32m    178\u001b[0m     \u001b[0;32mdef\u001b[0m \u001b[0mcached\u001b[0m\u001b[0;34m(\u001b[0m\u001b[0m_\u001b[0m\u001b[0;34m,\u001b[0m \u001b[0;34m*\u001b[0m\u001b[0margs\u001b[0m\u001b[0;34m,\u001b[0m \u001b[0;34m**\u001b[0m\u001b[0mkwargs\u001b[0m\u001b[0;34m)\u001b[0m\u001b[0;34m:\u001b[0m\u001b[0;34m\u001b[0m\u001b[0;34m\u001b[0m\u001b[0m\n\u001b[0;32m--> 179\u001b[0;31m       \u001b[0;32mreturn\u001b[0m \u001b[0mf\u001b[0m\u001b[0;34m(\u001b[0m\u001b[0;34m*\u001b[0m\u001b[0margs\u001b[0m\u001b[0;34m,\u001b[0m \u001b[0;34m**\u001b[0m\u001b[0mkwargs\u001b[0m\u001b[0;34m)\u001b[0m\u001b[0;34m\u001b[0m\u001b[0;34m\u001b[0m\u001b[0m\n\u001b[0m\u001b[1;32m    180\u001b[0m \u001b[0;34m\u001b[0m\u001b[0m\n\u001b[1;32m    181\u001b[0m     \u001b[0;34m@\u001b[0m\u001b[0mfunctools\u001b[0m\u001b[0;34m.\u001b[0m\u001b[0mwraps\u001b[0m\u001b[0;34m(\u001b[0m\u001b[0mf\u001b[0m\u001b[0;34m)\u001b[0m\u001b[0;34m\u001b[0m\u001b[0;34m\u001b[0m\u001b[0m\n",
            "\u001b[0;32m/usr/local/lib/python3.7/dist-packages/jax/_src/lax/lax.py\u001b[0m in \u001b[0;36mbroadcast_shapes\u001b[0;34m(*shapes)\u001b[0m\n\u001b[1;32m     91\u001b[0m   \u001b[0;32mif\u001b[0m \u001b[0mresult_shape\u001b[0m \u001b[0;32mis\u001b[0m \u001b[0;32mNone\u001b[0m\u001b[0;34m:\u001b[0m\u001b[0;34m\u001b[0m\u001b[0;34m\u001b[0m\u001b[0m\n\u001b[1;32m     92\u001b[0m     raise ValueError(\"Incompatible shapes for broadcasting: {}\"\n\u001b[0;32m---> 93\u001b[0;31m                      .format(tuple(map(tuple, shapes))))\n\u001b[0m\u001b[1;32m     94\u001b[0m   \u001b[0;32mreturn\u001b[0m \u001b[0mresult_shape\u001b[0m\u001b[0;34m\u001b[0m\u001b[0;34m\u001b[0m\u001b[0m\n\u001b[1;32m     95\u001b[0m \u001b[0;34m\u001b[0m\u001b[0m\n",
            "\u001b[0;31mValueError\u001b[0m: Incompatible shapes for broadcasting: ((7194, 70, 17), (1, 7194, 70))"
          ]
        }
      ]
    },
    {
      "cell_type": "markdown",
      "metadata": {
        "id": "NcTJupqo5RcP"
      },
      "source": [
        "**Expected output (Approximately)**   \n",
        "```\n",
        "outputs shape: (7194, 70)\n",
        "mask shape: (7194, 70) mask[0][20:30]: [ True  True  True False False False False False False False]\n",
        "accuracy:  0.9543761281155191\n",
        "```\n"
      ]
    },
    {
      "cell_type": "markdown",
      "metadata": {
        "id": "b2FEleAFLr3r"
      },
      "source": [
        "<a name=\"5\"></a>\n",
        "# Part 5:  Testing with your own sentence\n"
      ]
    },
    {
      "cell_type": "markdown",
      "metadata": {
        "id": "EOeTPAx_Lr3t"
      },
      "source": [
        "Below, you can test it out with your own sentence! "
      ]
    },
    {
      "cell_type": "code",
      "metadata": {
        "id": "0K4SyB20cHRf",
        "scrolled": true
      },
      "source": [
        "# This is the function you will be using to test your own sentence.\n",
        "def predict(sentence, model, vocab, tag_map):\n",
        "    s = [vocab[token] if token in vocab else vocab['UNK'] for token in sentence.split(' ')]\n",
        "    batch_data = np.ones((1, len(s)))\n",
        "    batch_data[0][:] = s\n",
        "    sentence = np.array(batch_data).astype(int)\n",
        "    output = model(sentence)\n",
        "    outputs = np.argmax(output, axis=2)\n",
        "    labels = list(tag_map.keys())\n",
        "    pred = []\n",
        "    for i in range(len(outputs[0])):\n",
        "        idx = outputs[0][i] \n",
        "        pred_label = labels[idx]\n",
        "        pred.append(pred_label)\n",
        "    return pred"
      ],
      "execution_count": 48,
      "outputs": []
    },
    {
      "cell_type": "code",
      "metadata": {
        "colab": {
          "base_uri": "https://localhost:8080/"
        },
        "id": "vLZCHoiULr3u",
        "scrolled": true,
        "outputId": "442cee79-22b3-4038-8d8c-630b09d359f0"
      },
      "source": [
        "# Try the output for the introduction example\n",
        "#sentence = \"Many French citizens are goin to visit Morocco for summer\"\n",
        "#sentence = \"Sharon Floyd flew to Miami last Friday\"\n",
        "\n",
        "# New york times news:\n",
        "sentence = \"Peter Navarro, the White House director of trade and manufacturing policy of U.S, said in an interview on Sunday morning that the White House was working to prepare for the possibility of a second wave of the coronavirus in the fall, though he said it wouldn’t necessarily come\"\n",
        "s = [vocab[token] if token in vocab else vocab['UNK'] for token in sentence.split(' ')]\n",
        "predictions = predict(sentence, model, vocab, tag_map)\n",
        "for x,y in zip(sentence.split(' '), predictions):\n",
        "    if y != 'O':\n",
        "        print(x,y)"
      ],
      "execution_count": 49,
      "outputs": [
        {
          "output_type": "stream",
          "text": [
            "Peter B-per\n",
            "White B-org\n",
            "House I-org\n",
            "Sunday B-tim\n",
            "morning I-tim\n",
            "White B-org\n",
            "House I-org\n"
          ],
          "name": "stdout"
        }
      ]
    },
    {
      "cell_type": "markdown",
      "metadata": {
        "id": "NHYbSnYKnCu6"
      },
      "source": [
        "** Expected Results **\n",
        "\n",
        "```\n",
        "Peter B-per\n",
        "Navarro, I-per\n",
        "White B-org\n",
        "House I-org\n",
        "Sunday B-tim\n",
        "morning I-tim\n",
        "White B-org\n",
        "House I-org\n",
        "coronavirus B-tim\n",
        "fall, B-tim\n",
        "```"
      ]
    }
  ]
}