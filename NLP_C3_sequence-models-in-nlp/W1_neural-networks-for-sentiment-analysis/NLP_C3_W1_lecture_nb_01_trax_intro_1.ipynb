{
  "nbformat": 4,
  "nbformat_minor": 0,
  "metadata": {
    "jupytext": {
      "encoding": "# -*- coding: utf-8 -*-",
      "formats": "ipynb,py:percent",
      "main_language": "python"
    },
    "kernelspec": {
      "display_name": "Python 3",
      "language": "python",
      "name": "python3"
    },
    "language_info": {
      "codemirror_mode": {
        "name": "ipython",
        "version": 3
      },
      "file_extension": ".py",
      "mimetype": "text/x-python",
      "name": "python",
      "nbconvert_exporter": "python",
      "pygments_lexer": "ipython3",
      "version": "3.7.1"
    },
    "colab": {
      "name": "NLP_C3_W1_lecture_nb_01_trax_intro.ipynb",
      "provenance": []
    }
  },
  "cells": [
    {
      "cell_type": "markdown",
      "metadata": {
        "id": "f2UYO71ogPdY"
      },
      "source": [
        "# Trax : Ungraded Lecture Notebook\n",
        "\n",
        "In this notebook you'll get to know about the Trax framework and learn about some of its basic building blocks.\n",
        "\n"
      ]
    },
    {
      "cell_type": "markdown",
      "metadata": {
        "id": "A1xcjBB2gPdZ"
      },
      "source": [
        "## Background\n",
        "\n",
        "### Why Trax and not TensorFlow or PyTorch?\n",
        "\n",
        "TensorFlow and PyTorch are both extensive frameworks that can do almost anything in deep learning. They offer a lot of flexibility, but that often means verbosity of syntax and extra time to code.\n",
        "\n",
        "Trax is much more concise. It runs on a TensorFlow backend but allows you to train models with 1 line commands. Trax also runs end to end, allowing you to get data, model and train all with a single terse statements. This means you can focus on learning, instead of spending hours on the idiosyncrasies of big framework implementation.\n",
        "\n",
        "### Why not Keras then?\n",
        "\n",
        "Keras is now part of Tensorflow itself from 2.0 onwards. Also, trax is good for implementing new state of the art algorithms like Transformers, Reformers, BERT because it is actively maintained by Google Brain Team for advanced deep learning tasks. It runs smoothly on CPUs,GPUs and TPUs as well with comparatively lesser modifications in code.\n",
        "\n",
        "### How to Code in Trax\n",
        "Building models in Trax relies on 2 key concepts:- **layers** and **combinators**.\n",
        "Trax layers are simple objects that process data and perform computations. They can be chained together into composite layers using Trax combinators, allowing you to build layers and models of any complexity.\n",
        "\n",
        "### Trax, JAX, TensorFlow and Tensor2Tensor\n",
        "\n",
        "You already know that Trax uses Tensorflow as a backend, but it also uses the JAX library to speed up computation too. You can view JAX as an enhanced and optimized version of numpy. \n",
        "\n",
        "**Watch out for assignments which import `import trax.fastmath.numpy as np`. If you see this line, remember that when calling `np` you are really calling Trax’s version of numpy that is compatible with JAX.**\n",
        "\n",
        "As a result of this, where you used to encounter the type `numpy.ndarray` now you will find the type `jax.interpreters.xla.DeviceArray`.\n",
        "\n",
        "Tensor2Tensor is another name you might have heard. It started as an end to end solution much like how Trax is designed, but it grew unwieldy and complicated. So you can view Trax as the new improved version that operates much faster and simpler.\n",
        "\n",
        "### Resources\n",
        "\n",
        "- Trax source code can be found on Github: [Trax](https://github.com/google/trax)\n",
        "- JAX library: [JAX](https://jax.readthedocs.io/en/latest/index.html)\n"
      ]
    },
    {
      "cell_type": "markdown",
      "metadata": {
        "id": "bUInIKxigPda"
      },
      "source": [
        "## Installing Trax\n",
        "\n",
        "Trax has dependencies on JAX and some libraries like JAX which are yet to be supported in [Windows](https://github.com/google/jax/blob/1bc5896ee4eab5d7bb4ec6f161d8b2abb30557be/README.md#installation) but work well in Ubuntu and MacOS. We would suggest that if you are working on Windows, try to install Trax on WSL2. \n",
        "\n",
        "Official maintained documentation - [trax-ml](https://trax-ml.readthedocs.io/en/latest/) not to be confused with this [TraX](https://trax.readthedocs.io/en/latest/index.html)"
      ]
    },
    {
      "cell_type": "code",
      "metadata": {
        "id": "WpY8Vd7SgPda",
        "outputId": "a1b1c83f-1c56-4b1e-b7dc-68b2f845709f",
        "colab": {
          "base_uri": "https://localhost:8080/"
        }
      },
      "source": [
        "!pip install -q -U git+https://github.com/google/trax.git\n",
        "!pip install -q -U git+https://github.com/google/gin-config.git"
      ],
      "execution_count": 12,
      "outputs": [
        {
          "output_type": "stream",
          "text": [
            "  Building wheel for trax (setup.py) ... \u001b[?25l\u001b[?25hdone\n",
            "  Building wheel for gin-config (setup.py) ... \u001b[?25l\u001b[?25hdone\n"
          ],
          "name": "stdout"
        }
      ]
    },
    {
      "cell_type": "markdown",
      "metadata": {
        "id": "YtDPu6szgPdb"
      },
      "source": [
        "\n",
        "## Imports"
      ]
    },
    {
      "cell_type": "code",
      "metadata": {
        "tags": [],
        "id": "EWBLnMUWgPdb"
      },
      "source": [
        "import numpy as np  # regular ol' numpy\n",
        "import trax"
      ],
      "execution_count": 13,
      "outputs": []
    },
    {
      "cell_type": "code",
      "metadata": {
        "tags": [],
        "id": "jRPr-1EGgPdc",
        "outputId": "da3499b6-eb40-4f40-a1c0-6fb1d6f91a6d",
        "colab": {
          "base_uri": "https://localhost:8080/"
        }
      },
      "source": [
        "# Trax version 1.3.1 or better \n",
        "!pip list | grep trax"
      ],
      "execution_count": 14,
      "outputs": [
        {
          "output_type": "stream",
          "text": [
            "trax                          1.3.9                \n"
          ],
          "name": "stdout"
        }
      ]
    },
    {
      "cell_type": "code",
      "metadata": {
        "id": "YIEmBENAt1bp"
      },
      "source": [
        "import trax.layers as tl"
      ],
      "execution_count": 5,
      "outputs": []
    },
    {
      "cell_type": "markdown",
      "metadata": {
        "id": "4E050CH3gPdc"
      },
      "source": [
        "## Layers\n",
        "Layers are the core building blocks in Trax or as mentioned in the lectures, they are the base classes.\n",
        "\n",
        "They take inputs, compute functions/custom calculations and return outputs.\n",
        "\n",
        "You can also inspect layer properties. Let me show you some examples.\n"
      ]
    },
    {
      "cell_type": "markdown",
      "metadata": {
        "id": "WCo9BaD9gPdd"
      },
      "source": [
        "### Relu Layer\n",
        "First I'll show you how to build a relu activation function as a layer. A layer like this is one of the simplest types. Notice there is no object initialization so it works just like a math function.\n",
        "\n",
        "**Note: Activation functions are also layers in Trax, which might look odd if you have been using other frameworks for a longer time.**"
      ]
    },
    {
      "cell_type": "code",
      "metadata": {
        "tags": [],
        "id": "xcV5pfurgPdd",
        "outputId": "9f206e90-6a99-4acd-8ca8-df3f3d37ed5b",
        "colab": {
          "base_uri": "https://localhost:8080/"
        }
      },
      "source": [
        "# Layers\n",
        "# Create a relu trax layer\n",
        "relu = tl.Relu()\n",
        "\n",
        "# Inspect properties\n",
        "print(\"-- Properties --\")\n",
        "print(\"name :\", relu.name)\n",
        "print(\"expected inputs :\", relu.n_in)\n",
        "print(\"promised outputs :\", relu.n_out, \"\\n\")\n",
        "\n",
        "# Inputs\n",
        "x = np.array([-2, -1, 0, 1, 2])\n",
        "print(\"-- Inputs --\")\n",
        "print(\"x :\", x, \"\\n\")\n",
        "\n",
        "# Outputs\n",
        "y = relu(x)\n",
        "print(\"-- Outputs --\")\n",
        "print(\"y :\", y)"
      ],
      "execution_count": 15,
      "outputs": [
        {
          "output_type": "stream",
          "text": [
            "-- Properties --\n",
            "name : Serial\n",
            "expected inputs : 1\n",
            "promised outputs : 1 \n",
            "\n",
            "-- Inputs --\n",
            "x : [-2 -1  0  1  2] \n",
            "\n",
            "-- Outputs --\n",
            "y : [0 0 0 1 2]\n"
          ],
          "name": "stdout"
        }
      ]
    },
    {
      "cell_type": "markdown",
      "metadata": {
        "id": "M_U_qJ7LgPdd"
      },
      "source": [
        "### Concatenate Layer\n",
        "Now I'll show you how to build a layer that takes 2 inputs. Notice the change in the expected inputs property from 1 to 2."
      ]
    },
    {
      "cell_type": "code",
      "metadata": {
        "tags": [],
        "id": "5D5kZE5MgPde",
        "outputId": "115cb42d-610a-49b0-c55f-4944038c7db0",
        "colab": {
          "base_uri": "https://localhost:8080/"
        }
      },
      "source": [
        "# Create a concatenate trax layer\n",
        "concat = tl.Concatenate()\n",
        "print(\"-- Properties --\")\n",
        "print(\"name :\", concat.name)\n",
        "print(\"expected inputs :\", concat.n_in)\n",
        "print(\"promised outputs :\", concat.n_out, \"\\n\")\n",
        "\n",
        "# Inputs\n",
        "x1 = np.array([-10, -20, -30])\n",
        "x2 = x1 / -10\n",
        "print(\"-- Inputs --\")\n",
        "print(\"x1 :\", x1)\n",
        "print(\"x2 :\", x2, \"\\n\")\n",
        "\n",
        "# Outputs\n",
        "y = concat([x1, x2])\n",
        "print(\"-- Outputs --\")\n",
        "print(\"y :\", y)"
      ],
      "execution_count": 7,
      "outputs": [
        {
          "output_type": "stream",
          "text": [
            "-- Properties --\n",
            "name : Concatenate\n",
            "expected inputs : 2\n",
            "promised outputs : 1 \n",
            "\n",
            "-- Inputs --\n",
            "x1 : [-10 -20 -30]\n",
            "x2 : [1. 2. 3.] \n",
            "\n",
            "-- Outputs --\n",
            "y : [-10. -20. -30.   1.   2.   3.]\n"
          ],
          "name": "stdout"
        }
      ]
    },
    {
      "cell_type": "markdown",
      "metadata": {
        "id": "Jx1OxImCgPde"
      },
      "source": [
        "## Layers are Configurable\n",
        "You can change the default settings of layers. For example, you can change the expected inputs for a concatenate layer from 2 to 3 using the optional parameter `n_items`."
      ]
    },
    {
      "cell_type": "code",
      "metadata": {
        "tags": [],
        "id": "LwD9JAl1gPde",
        "outputId": "7f3c85c1-6c74-48e5-9d02-c4120ff93ca9",
        "colab": {
          "base_uri": "https://localhost:8080/"
        }
      },
      "source": [
        "# Configure a concatenate layer\n",
        "concat_3 = tl.Concatenate(n_items=3)  # configure the layer's expected inputs\n",
        "print(\"-- Properties --\")\n",
        "print(\"name :\", concat_3.name)\n",
        "print(\"expected inputs :\", concat_3.n_in)\n",
        "print(\"promised outputs :\", concat_3.n_out, \"\\n\")\n",
        "\n",
        "# Inputs\n",
        "x1 = np.array([-10, -20, -30])\n",
        "x2 = x1 / -10\n",
        "x3 = x2 * 0.99\n",
        "print(\"-- Inputs --\")\n",
        "print(\"x1 :\", x1)\n",
        "print(\"x2 :\", x2)\n",
        "print(\"x3 :\", x3, \"\\n\")\n",
        "\n",
        "# Outputs\n",
        "y = concat_3([x1, x2, x3])\n",
        "print(\"-- Outputs --\")\n",
        "print(\"y :\", y)"
      ],
      "execution_count": 19,
      "outputs": [
        {
          "output_type": "stream",
          "text": [
            "-- Properties --\n",
            "name : Concatenate\n",
            "expected inputs : 3\n",
            "promised outputs : 1 \n",
            "\n",
            "-- Inputs --\n",
            "x1 : [-10 -20 -30]\n",
            "x2 : [1. 2. 3.]\n",
            "x3 : [0.99 1.98 2.97] \n",
            "\n",
            "-- Outputs --\n",
            "y : [-10.   -20.   -30.     1.     2.     3.     0.99   1.98   2.97]\n"
          ],
          "name": "stdout"
        }
      ]
    },
    {
      "cell_type": "markdown",
      "metadata": {
        "id": "vjzotIRXgPdf"
      },
      "source": [
        "**Note: At any point,if you want to refer the function help/ look up the [documentation](https://trax-ml.readthedocs.io/en/latest/) or use help function.**"
      ]
    },
    {
      "cell_type": "code",
      "metadata": {
        "id": "5dlbVAsdgPdf"
      },
      "source": [
        "#help(tl.Concatenate) #Uncomment this to see the function docstring with explaination"
      ],
      "execution_count": null,
      "outputs": []
    },
    {
      "cell_type": "markdown",
      "metadata": {
        "id": "GtB3Tpv0gPdf"
      },
      "source": [
        "## Layers can have Weights\n",
        "Some layer types include mutable weights and biases that are used in computation and training. Layers of this type require initialization before use.\n",
        "\n",
        "For example the `LayerNorm` layer calculates normalized data, that is also scaled by weights and biases. During initialization you pass the data shape and data type of the inputs, so the layer can initialize compatible arrays of weights and biases."
      ]
    },
    {
      "cell_type": "code",
      "metadata": {
        "id": "yECodm7UgPdf"
      },
      "source": [
        "# Uncomment any of them to see information regarding the function\n",
        "# help(tl.LayerNorm)\n",
        "# help(shapes.signature)\n"
      ],
      "execution_count": null,
      "outputs": []
    },
    {
      "cell_type": "code",
      "metadata": {
        "tags": [],
        "id": "bQbEo8lXgPdf",
        "outputId": "47fb5360-5209-40b6-ac9f-88e45b2569fe",
        "colab": {
          "base_uri": "https://localhost:8080/"
        }
      },
      "source": [
        "# Layer initialization\n",
        "# norm = tl.LayerNorm()\n",
        "norm = tl.normalization.LayerNorm()\n",
        "# You first must know what the input data will look like\n",
        "x = np.array([0, 1, 2, 3], dtype=\"float\")\n",
        "\n",
        "# Use the input data signature to get shape and type for initializing weights and biases\n",
        "norm.init(trax.shapes.signature(x)) # We need to convert the input datatype from usual tuple to trax ShapeDtype\n",
        "\n",
        "print(\"Normal shape:\",x.shape, \"Data Type:\",type(x.shape))\n",
        "print(\"Shapes Trax:\",trax.shapes.signature(x),\"Data Type:\",type(trax.shapes.signature(x)))\n",
        "\n",
        "# Inspect properties\n",
        "print(\"-- Properties --\")\n",
        "print(\"name :\", norm.name)\n",
        "print(\"expected inputs :\", norm.n_in)\n",
        "print(\"promised outputs :\", norm.n_out)\n",
        "# Weights and biases\n",
        "print(\"weights :\", norm.weights[0])\n",
        "print(\"biases :\", norm.weights[1], \"\\n\")\n",
        "\n",
        "# Inputs\n",
        "print(\"-- Inputs --\")\n",
        "print(\"x :\", x)\n",
        "\n",
        "# Outputs\n",
        "y = norm(x)\n",
        "print(\"-- Outputs --\")\n",
        "print(\"y :\", y)"
      ],
      "execution_count": 23,
      "outputs": [
        {
          "output_type": "stream",
          "text": [
            "Normal shape: (4,) Data Type: <class 'tuple'>\n",
            "Shapes Trax: ShapeDtype{shape:(4,), dtype:float64} Data Type: <class 'trax.shapes.ShapeDtype'>\n",
            "-- Properties --\n",
            "name : LayerNorm\n",
            "expected inputs : 1\n",
            "promised outputs : 1\n",
            "weights : [1. 1. 1. 1.]\n",
            "biases : [0. 0. 0. 0.] \n",
            "\n",
            "-- Inputs --\n",
            "x : [0. 1. 2. 3.]\n",
            "-- Outputs --\n",
            "y : [-1.3416404  -0.44721344  0.44721344  1.3416404 ]\n"
          ],
          "name": "stdout"
        },
        {
          "output_type": "stream",
          "text": [
            "/usr/local/lib/python3.7/dist-packages/jax/_src/numpy/lax_numpy.py:3044: UserWarning: Explicitly requested dtype float64 requested in ones is not available, and will be truncated to dtype float32. To enable more dtypes, set the jax_enable_x64 configuration option or the JAX_ENABLE_X64 shell environment variable. See https://github.com/google/jax#current-gotchas for more.\n",
            "  lax._check_user_dtype_supported(dtype, \"ones\")\n",
            "/usr/local/lib/python3.7/dist-packages/jax/_src/numpy/lax_numpy.py:3035: UserWarning: Explicitly requested dtype float64 requested in zeros is not available, and will be truncated to dtype float32. To enable more dtypes, set the jax_enable_x64 configuration option or the JAX_ENABLE_X64 shell environment variable. See https://github.com/google/jax#current-gotchas for more.\n",
            "  lax._check_user_dtype_supported(dtype, \"zeros\")\n"
          ],
          "name": "stderr"
        }
      ]
    },
    {
      "cell_type": "markdown",
      "metadata": {
        "id": "Er79fKnIgPdf"
      },
      "source": [
        "## Custom Layers\n",
        "This is where things start getting more interesting!\n",
        "You can create your own custom layers too and define custom functions for computations by using `tl.Fn`. Let me show you how."
      ]
    },
    {
      "cell_type": "code",
      "metadata": {
        "id": "NvDlZNSNgPdf",
        "outputId": "92de5998-5166-45dd-db03-6af6c4e74405"
      },
      "source": [
        "help(tl.Fn)"
      ],
      "execution_count": null,
      "outputs": [
        {
          "output_type": "stream",
          "text": [
            "Help on function Fn in module trax.layers.base:\n",
            "\n",
            "Fn(name, f, n_out=1)\n",
            "    Returns a layer with no weights that applies the function `f`.\n",
            "    \n",
            "    `f` can take and return any number of arguments, and takes only positional\n",
            "    arguments -- no default or keyword arguments. It often uses JAX-numpy (`jnp`).\n",
            "    The following, for example, would create a layer that takes two inputs and\n",
            "    returns two outputs -- element-wise sums and maxima:\n",
            "    \n",
            "        `Fn('SumAndMax', lambda x0, x1: (x0 + x1, jnp.maximum(x0, x1)), n_out=2)`\n",
            "    \n",
            "    The layer's number of inputs (`n_in`) is automatically set to number of\n",
            "    positional arguments in `f`, but you must explicitly set the number of\n",
            "    outputs (`n_out`) whenever it's not the default value 1.\n",
            "    \n",
            "    Args:\n",
            "      name: Class-like name for the resulting layer; for use in debugging.\n",
            "      f: Pure function from input tensors to output tensors, where each input\n",
            "          tensor is a separate positional arg, e.g., `f(x0, x1) --> x0 + x1`.\n",
            "          Output tensors must be packaged as specified in the `Layer` class\n",
            "          docstring.\n",
            "      n_out: Number of outputs promised by the layer; default value 1.\n",
            "    \n",
            "    Returns:\n",
            "      Layer executing the function `f`.\n",
            "\n"
          ],
          "name": "stdout"
        }
      ]
    },
    {
      "cell_type": "code",
      "metadata": {
        "tags": [],
        "id": "yWZ2-QodgPdf",
        "outputId": "86076679-3c3c-4f62-b736-4d260178900c",
        "colab": {
          "base_uri": "https://localhost:8080/"
        }
      },
      "source": [
        "# Define a custom layer\n",
        "# In this example you will create a layer to calculate the input times 2\n",
        "\n",
        "def TimesTwo():\n",
        "    layer_name = \"TimesTwo\" #don't forget to give your custom layer a name to identify\n",
        "\n",
        "    # Custom function for the custom layer\n",
        "    def func(x):\n",
        "        return x * 2\n",
        "\n",
        "    return tl.Fn(layer_name, func)\n",
        "\n",
        "\n",
        "# Test it\n",
        "times_two = TimesTwo()\n",
        "\n",
        "# Inspect properties\n",
        "print(\"-- Properties --\")\n",
        "print(\"name :\", times_two.name)\n",
        "print(\"expected inputs :\", times_two.n_in)\n",
        "print(\"promised outputs :\", times_two.n_out, \"\\n\")\n",
        "\n",
        "# Inputs\n",
        "x = np.array([1, 2, 3])\n",
        "print(\"-- Inputs --\")\n",
        "print(\"x :\", x, \"\\n\")\n",
        "\n",
        "# Outputs\n",
        "y = times_two(x)\n",
        "print(\"-- Outputs --\")\n",
        "print(\"y :\", y)"
      ],
      "execution_count": 24,
      "outputs": [
        {
          "output_type": "stream",
          "text": [
            "-- Properties --\n",
            "name : TimesTwo\n",
            "expected inputs : 1\n",
            "promised outputs : 1 \n",
            "\n",
            "-- Inputs --\n",
            "x : [1 2 3] \n",
            "\n",
            "-- Outputs --\n",
            "y : [2 4 6]\n"
          ],
          "name": "stdout"
        }
      ]
    },
    {
      "cell_type": "markdown",
      "metadata": {
        "id": "3uQtHOIXgPdg"
      },
      "source": [
        "## Combinators\n",
        "You can combine layers to build more complex layers. Trax provides a set of objects named combinator layers to make this happen. Combinators are themselves layers, so behavior commutes.\n",
        "\n"
      ]
    },
    {
      "cell_type": "markdown",
      "metadata": {
        "id": "r74VpqGygPdg"
      },
      "source": [
        "### Serial Combinator\n",
        "This is the most common and easiest to use. For example could build a simple neural network by combining layers into a single layer using the `Serial` combinator. This new layer then acts just like a single layer, so you can inspect intputs, outputs and weights. Or even combine it into another layer! Combinators can then be used as trainable models. _Try adding more layers_\n",
        "\n",
        "**Note:As you must have guessed, if there is serial combinator, there must be a parallel combinator as well. Do try to explore about combinators and other layers from the trax documentation and look at the repo to understand how these layers are written.**\n"
      ]
    },
    {
      "cell_type": "code",
      "metadata": {
        "id": "c92f0-ZngPdg"
      },
      "source": [
        "# help(tl.Serial)\n",
        "# help(tl.Parallel)"
      ],
      "execution_count": null,
      "outputs": []
    },
    {
      "cell_type": "code",
      "metadata": {
        "tags": [],
        "id": "_HW4N8_lgPdg",
        "outputId": "9f51d738-131e-4b58-8702-e83e00fe8fc1",
        "colab": {
          "base_uri": "https://localhost:8080/"
        }
      },
      "source": [
        "# Serial combinator\n",
        "serial = tl.Serial(\n",
        "    tl.LayerNorm(),         # normalize input\n",
        "    tl.Relu(),              # convert negative values to zero\n",
        "    times_two,              # the custom layer you created above, multiplies the input recieved from above by 2\n",
        "    \n",
        "    ### START CODE HERE\n",
        "#     tl.Dense(n_units=2),  # try adding more layers. eg uncomment these lines\n",
        "#     tl.Dense(n_units=1),  # Binary classification, maybe? uncomment at your own peril\n",
        "#     tl.LogSoftmax()       # Yes, LogSoftmax is also a layer\n",
        "    ### END CODE HERE\n",
        ")\n",
        "\n",
        "# Initialization\n",
        "x = np.array([-2, -1, 0, 1, 2]) #input\n",
        "serial.init(trax.shapes.signature(x)) #initialising serial instance\n",
        "\n",
        "print(\"-- Serial Model --\")\n",
        "print(serial,\"\\n\")\n",
        "print(\"-- Properties --\")\n",
        "print(\"name :\", serial.name)\n",
        "print(\"sublayers :\", serial.sublayers)\n",
        "print(\"expected inputs :\", serial.n_in)\n",
        "print(\"promised outputs :\", serial.n_out)\n",
        "print(\"weights & biases:\", serial.weights, \"\\n\")\n",
        "\n",
        "# Inputs\n",
        "print(\"-- Inputs --\")\n",
        "print(\"x :\", x, \"\\n\")\n",
        "\n",
        "# Outputs\n",
        "y = serial(x)\n",
        "print(\"-- Outputs --\")\n",
        "print(\"y :\", y)"
      ],
      "execution_count": 26,
      "outputs": [
        {
          "output_type": "stream",
          "text": [
            "-- Serial Model --\n",
            "Serial[\n",
            "  LayerNorm\n",
            "  Serial[\n",
            "    Relu\n",
            "  ]\n",
            "  TimesTwo\n",
            "] \n",
            "\n",
            "-- Properties --\n",
            "name : Serial\n",
            "sublayers : [LayerNorm, Serial[\n",
            "  Relu\n",
            "], TimesTwo]\n",
            "expected inputs : 1\n",
            "promised outputs : 1\n",
            "weights & biases: ((DeviceArray([1, 1, 1, 1, 1], dtype=int32), DeviceArray([0, 0, 0, 0, 0], dtype=int32)), ((), (), ()), ()) \n",
            "\n",
            "-- Inputs --\n",
            "x : [-2 -1  0  1  2] \n",
            "\n",
            "-- Outputs --\n",
            "y : [0.        0.        0.        1.4142132 2.8284264]\n"
          ],
          "name": "stdout"
        },
        {
          "output_type": "stream",
          "text": [
            "/usr/local/lib/python3.7/dist-packages/jax/_src/numpy/lax_numpy.py:3044: UserWarning: Explicitly requested dtype int64 requested in ones is not available, and will be truncated to dtype int32. To enable more dtypes, set the jax_enable_x64 configuration option or the JAX_ENABLE_X64 shell environment variable. See https://github.com/google/jax#current-gotchas for more.\n",
            "  lax._check_user_dtype_supported(dtype, \"ones\")\n",
            "/usr/local/lib/python3.7/dist-packages/jax/_src/numpy/lax_numpy.py:3035: UserWarning: Explicitly requested dtype int64 requested in zeros is not available, and will be truncated to dtype int32. To enable more dtypes, set the jax_enable_x64 configuration option or the JAX_ENABLE_X64 shell environment variable. See https://github.com/google/jax#current-gotchas for more.\n",
            "  lax._check_user_dtype_supported(dtype, \"zeros\")\n"
          ],
          "name": "stderr"
        }
      ]
    },
    {
      "cell_type": "markdown",
      "metadata": {
        "id": "bXHMedAqgPdg"
      },
      "source": [
        "## JAX\n",
        "Just remember to lookout for which numpy you are using, the regular ol' numpy or Trax's JAX compatible numpy. Both tend to use the alias np so watch those import blocks.\n",
        "\n",
        "**Note:There are certain things which are still not possible in fastmath.numpy which can be done in numpy so you will see in assignments we will switch between them to get our work done.**"
      ]
    },
    {
      "cell_type": "code",
      "metadata": {
        "tags": [],
        "id": "GAASMKyRgPdg",
        "outputId": "1ab7b8b7-ad29-47c0-ca3a-163d8864598d",
        "colab": {
          "base_uri": "https://localhost:8080/"
        }
      },
      "source": [
        "from trax import fastmath\n",
        "# Numpy vs fastmath.numpy have different data types\n",
        "# Regular ol' numpy\n",
        "x_numpy = np.array([1, 2, 3])\n",
        "print(\"good old numpy : \", type(x_numpy), \"\\n\")\n",
        "\n",
        "# Fastmath and jax numpy\n",
        "x_jax = fastmath.numpy.array([1, 2, 3])\n",
        "print(\"jax trax numpy : \", type(x_jax))"
      ],
      "execution_count": 28,
      "outputs": [
        {
          "output_type": "stream",
          "text": [
            "good old numpy :  <class 'numpy.ndarray'> \n",
            "\n",
            "jax trax numpy :  <class 'jaxlib.xla_extension.DeviceArray'>\n"
          ],
          "name": "stdout"
        }
      ]
    },
    {
      "cell_type": "markdown",
      "metadata": {
        "id": "vWgTkC6igPdg"
      },
      "source": [
        "## Summary\n",
        "Trax is a concise framework, built on TensorFlow, for end to end machine learning. The key building blocks are layers and combinators. This notebook is just a taste, but sets you up with some key inuitions to take forward into the rest of the course and assignments where you will build end to end models."
      ]
    }
  ]
}